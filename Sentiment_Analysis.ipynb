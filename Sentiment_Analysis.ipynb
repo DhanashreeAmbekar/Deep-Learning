{
  "nbformat": 4,
  "nbformat_minor": 0,
  "metadata": {
    "colab": {
      "provenance": [],
      "gpuType": "T4",
      "authorship_tag": "ABX9TyOmK+FUB9uvx3/AqkRjykee",
      "include_colab_link": true
    },
    "kernelspec": {
      "name": "python3",
      "display_name": "Python 3"
    },
    "language_info": {
      "name": "python"
    },
    "accelerator": "GPU"
  },
  "cells": [
    {
      "cell_type": "markdown",
      "metadata": {
        "id": "view-in-github",
        "colab_type": "text"
      },
      "source": [
        "<a href=\"https://colab.research.google.com/github/DhanashreeAmbekar/Deep-Learning/blob/main/Sentiment_Analysis.ipynb\" target=\"_parent\"><img src=\"https://colab.research.google.com/assets/colab-badge.svg\" alt=\"Open In Colab\"/></a>"
      ]
    },
    {
      "cell_type": "code",
      "execution_count": null,
      "metadata": {
        "id": "yD5nzZ582pFs"
      },
      "outputs": [],
      "source": []
    },
    {
      "cell_type": "markdown",
      "source": [
        "### Sentiment (Text) Analysis Natural Language Processing"
      ],
      "metadata": {
        "id": "OdAyHuuh3FFQ"
      }
    },
    {
      "cell_type": "markdown",
      "source": [
        "![image.png](data:image/png;base64,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)"
      ],
      "metadata": {
        "id": "0p_QRAFWFeDM"
      }
    },
    {
      "cell_type": "code",
      "source": [
        "from warnings import filterwarnings\n",
        "filterwarnings(\"ignore\")\n",
        ""
      ],
      "metadata": {
        "id": "srTIDcu93bsP"
      },
      "execution_count": 2,
      "outputs": []
    },
    {
      "cell_type": "code",
      "source": [
        "import pandas as pd\n",
        "url = \"https://raw.githubusercontent.com/utkarshg1/Neural-Net-Datasets/refs/heads/main/Restaurant_Reviews.tsv\"\n",
        "df = pd.read_csv(url, sep=\"\\t\")\n",
        "df.head()"
      ],
      "metadata": {
        "colab": {
          "base_uri": "https://localhost:8080/",
          "height": 206
        },
        "id": "9oAVS_F53y9-",
        "outputId": "90a07681-96c7-477b-d85c-fff9e7c7a5d4"
      },
      "execution_count": 3,
      "outputs": [
        {
          "output_type": "execute_result",
          "data": {
            "text/plain": [
              "                                              Review  Liked\n",
              "0                           Wow... Loved this place.      1\n",
              "1                                 Crust is not good.      0\n",
              "2          Not tasty and the texture was just nasty.      0\n",
              "3  Stopped by during the late May bank holiday of...      1\n",
              "4  The selection on the menu was great and so wer...      1"
            ],
            "text/html": [
              "\n",
              "  <div id=\"df-8e3a7732-e0af-4058-9d84-01db0ac07900\" class=\"colab-df-container\">\n",
              "    <div>\n",
              "<style scoped>\n",
              "    .dataframe tbody tr th:only-of-type {\n",
              "        vertical-align: middle;\n",
              "    }\n",
              "\n",
              "    .dataframe tbody tr th {\n",
              "        vertical-align: top;\n",
              "    }\n",
              "\n",
              "    .dataframe thead th {\n",
              "        text-align: right;\n",
              "    }\n",
              "</style>\n",
              "<table border=\"1\" class=\"dataframe\">\n",
              "  <thead>\n",
              "    <tr style=\"text-align: right;\">\n",
              "      <th></th>\n",
              "      <th>Review</th>\n",
              "      <th>Liked</th>\n",
              "    </tr>\n",
              "  </thead>\n",
              "  <tbody>\n",
              "    <tr>\n",
              "      <th>0</th>\n",
              "      <td>Wow... Loved this place.</td>\n",
              "      <td>1</td>\n",
              "    </tr>\n",
              "    <tr>\n",
              "      <th>1</th>\n",
              "      <td>Crust is not good.</td>\n",
              "      <td>0</td>\n",
              "    </tr>\n",
              "    <tr>\n",
              "      <th>2</th>\n",
              "      <td>Not tasty and the texture was just nasty.</td>\n",
              "      <td>0</td>\n",
              "    </tr>\n",
              "    <tr>\n",
              "      <th>3</th>\n",
              "      <td>Stopped by during the late May bank holiday of...</td>\n",
              "      <td>1</td>\n",
              "    </tr>\n",
              "    <tr>\n",
              "      <th>4</th>\n",
              "      <td>The selection on the menu was great and so wer...</td>\n",
              "      <td>1</td>\n",
              "    </tr>\n",
              "  </tbody>\n",
              "</table>\n",
              "</div>\n",
              "    <div class=\"colab-df-buttons\">\n",
              "\n",
              "  <div class=\"colab-df-container\">\n",
              "    <button class=\"colab-df-convert\" onclick=\"convertToInteractive('df-8e3a7732-e0af-4058-9d84-01db0ac07900')\"\n",
              "            title=\"Convert this dataframe to an interactive table.\"\n",
              "            style=\"display:none;\">\n",
              "\n",
              "  <svg xmlns=\"http://www.w3.org/2000/svg\" height=\"24px\" viewBox=\"0 -960 960 960\">\n",
              "    <path d=\"M120-120v-720h720v720H120Zm60-500h600v-160H180v160Zm220 220h160v-160H400v160Zm0 220h160v-160H400v160ZM180-400h160v-160H180v160Zm440 0h160v-160H620v160ZM180-180h160v-160H180v160Zm440 0h160v-160H620v160Z\"/>\n",
              "  </svg>\n",
              "    </button>\n",
              "\n",
              "  <style>\n",
              "    .colab-df-container {\n",
              "      display:flex;\n",
              "      gap: 12px;\n",
              "    }\n",
              "\n",
              "    .colab-df-convert {\n",
              "      background-color: #E8F0FE;\n",
              "      border: none;\n",
              "      border-radius: 50%;\n",
              "      cursor: pointer;\n",
              "      display: none;\n",
              "      fill: #1967D2;\n",
              "      height: 32px;\n",
              "      padding: 0 0 0 0;\n",
              "      width: 32px;\n",
              "    }\n",
              "\n",
              "    .colab-df-convert:hover {\n",
              "      background-color: #E2EBFA;\n",
              "      box-shadow: 0px 1px 2px rgba(60, 64, 67, 0.3), 0px 1px 3px 1px rgba(60, 64, 67, 0.15);\n",
              "      fill: #174EA6;\n",
              "    }\n",
              "\n",
              "    .colab-df-buttons div {\n",
              "      margin-bottom: 4px;\n",
              "    }\n",
              "\n",
              "    [theme=dark] .colab-df-convert {\n",
              "      background-color: #3B4455;\n",
              "      fill: #D2E3FC;\n",
              "    }\n",
              "\n",
              "    [theme=dark] .colab-df-convert:hover {\n",
              "      background-color: #434B5C;\n",
              "      box-shadow: 0px 1px 3px 1px rgba(0, 0, 0, 0.15);\n",
              "      filter: drop-shadow(0px 1px 2px rgba(0, 0, 0, 0.3));\n",
              "      fill: #FFFFFF;\n",
              "    }\n",
              "  </style>\n",
              "\n",
              "    <script>\n",
              "      const buttonEl =\n",
              "        document.querySelector('#df-8e3a7732-e0af-4058-9d84-01db0ac07900 button.colab-df-convert');\n",
              "      buttonEl.style.display =\n",
              "        google.colab.kernel.accessAllowed ? 'block' : 'none';\n",
              "\n",
              "      async function convertToInteractive(key) {\n",
              "        const element = document.querySelector('#df-8e3a7732-e0af-4058-9d84-01db0ac07900');\n",
              "        const dataTable =\n",
              "          await google.colab.kernel.invokeFunction('convertToInteractive',\n",
              "                                                    [key], {});\n",
              "        if (!dataTable) return;\n",
              "\n",
              "        const docLinkHtml = 'Like what you see? Visit the ' +\n",
              "          '<a target=\"_blank\" href=https://colab.research.google.com/notebooks/data_table.ipynb>data table notebook</a>'\n",
              "          + ' to learn more about interactive tables.';\n",
              "        element.innerHTML = '';\n",
              "        dataTable['output_type'] = 'display_data';\n",
              "        await google.colab.output.renderOutput(dataTable, element);\n",
              "        const docLink = document.createElement('div');\n",
              "        docLink.innerHTML = docLinkHtml;\n",
              "        element.appendChild(docLink);\n",
              "      }\n",
              "    </script>\n",
              "  </div>\n",
              "\n",
              "\n",
              "<div id=\"df-c00a0ef5-0145-4a49-bea1-55e9f7a4706a\">\n",
              "  <button class=\"colab-df-quickchart\" onclick=\"quickchart('df-c00a0ef5-0145-4a49-bea1-55e9f7a4706a')\"\n",
              "            title=\"Suggest charts\"\n",
              "            style=\"display:none;\">\n",
              "\n",
              "<svg xmlns=\"http://www.w3.org/2000/svg\" height=\"24px\"viewBox=\"0 0 24 24\"\n",
              "     width=\"24px\">\n",
              "    <g>\n",
              "        <path d=\"M19 3H5c-1.1 0-2 .9-2 2v14c0 1.1.9 2 2 2h14c1.1 0 2-.9 2-2V5c0-1.1-.9-2-2-2zM9 17H7v-7h2v7zm4 0h-2V7h2v10zm4 0h-2v-4h2v4z\"/>\n",
              "    </g>\n",
              "</svg>\n",
              "  </button>\n",
              "\n",
              "<style>\n",
              "  .colab-df-quickchart {\n",
              "      --bg-color: #E8F0FE;\n",
              "      --fill-color: #1967D2;\n",
              "      --hover-bg-color: #E2EBFA;\n",
              "      --hover-fill-color: #174EA6;\n",
              "      --disabled-fill-color: #AAA;\n",
              "      --disabled-bg-color: #DDD;\n",
              "  }\n",
              "\n",
              "  [theme=dark] .colab-df-quickchart {\n",
              "      --bg-color: #3B4455;\n",
              "      --fill-color: #D2E3FC;\n",
              "      --hover-bg-color: #434B5C;\n",
              "      --hover-fill-color: #FFFFFF;\n",
              "      --disabled-bg-color: #3B4455;\n",
              "      --disabled-fill-color: #666;\n",
              "  }\n",
              "\n",
              "  .colab-df-quickchart {\n",
              "    background-color: var(--bg-color);\n",
              "    border: none;\n",
              "    border-radius: 50%;\n",
              "    cursor: pointer;\n",
              "    display: none;\n",
              "    fill: var(--fill-color);\n",
              "    height: 32px;\n",
              "    padding: 0;\n",
              "    width: 32px;\n",
              "  }\n",
              "\n",
              "  .colab-df-quickchart:hover {\n",
              "    background-color: var(--hover-bg-color);\n",
              "    box-shadow: 0 1px 2px rgba(60, 64, 67, 0.3), 0 1px 3px 1px rgba(60, 64, 67, 0.15);\n",
              "    fill: var(--button-hover-fill-color);\n",
              "  }\n",
              "\n",
              "  .colab-df-quickchart-complete:disabled,\n",
              "  .colab-df-quickchart-complete:disabled:hover {\n",
              "    background-color: var(--disabled-bg-color);\n",
              "    fill: var(--disabled-fill-color);\n",
              "    box-shadow: none;\n",
              "  }\n",
              "\n",
              "  .colab-df-spinner {\n",
              "    border: 2px solid var(--fill-color);\n",
              "    border-color: transparent;\n",
              "    border-bottom-color: var(--fill-color);\n",
              "    animation:\n",
              "      spin 1s steps(1) infinite;\n",
              "  }\n",
              "\n",
              "  @keyframes spin {\n",
              "    0% {\n",
              "      border-color: transparent;\n",
              "      border-bottom-color: var(--fill-color);\n",
              "      border-left-color: var(--fill-color);\n",
              "    }\n",
              "    20% {\n",
              "      border-color: transparent;\n",
              "      border-left-color: var(--fill-color);\n",
              "      border-top-color: var(--fill-color);\n",
              "    }\n",
              "    30% {\n",
              "      border-color: transparent;\n",
              "      border-left-color: var(--fill-color);\n",
              "      border-top-color: var(--fill-color);\n",
              "      border-right-color: var(--fill-color);\n",
              "    }\n",
              "    40% {\n",
              "      border-color: transparent;\n",
              "      border-right-color: var(--fill-color);\n",
              "      border-top-color: var(--fill-color);\n",
              "    }\n",
              "    60% {\n",
              "      border-color: transparent;\n",
              "      border-right-color: var(--fill-color);\n",
              "    }\n",
              "    80% {\n",
              "      border-color: transparent;\n",
              "      border-right-color: var(--fill-color);\n",
              "      border-bottom-color: var(--fill-color);\n",
              "    }\n",
              "    90% {\n",
              "      border-color: transparent;\n",
              "      border-bottom-color: var(--fill-color);\n",
              "    }\n",
              "  }\n",
              "</style>\n",
              "\n",
              "  <script>\n",
              "    async function quickchart(key) {\n",
              "      const quickchartButtonEl =\n",
              "        document.querySelector('#' + key + ' button');\n",
              "      quickchartButtonEl.disabled = true;  // To prevent multiple clicks.\n",
              "      quickchartButtonEl.classList.add('colab-df-spinner');\n",
              "      try {\n",
              "        const charts = await google.colab.kernel.invokeFunction(\n",
              "            'suggestCharts', [key], {});\n",
              "      } catch (error) {\n",
              "        console.error('Error during call to suggestCharts:', error);\n",
              "      }\n",
              "      quickchartButtonEl.classList.remove('colab-df-spinner');\n",
              "      quickchartButtonEl.classList.add('colab-df-quickchart-complete');\n",
              "    }\n",
              "    (() => {\n",
              "      let quickchartButtonEl =\n",
              "        document.querySelector('#df-c00a0ef5-0145-4a49-bea1-55e9f7a4706a button');\n",
              "      quickchartButtonEl.style.display =\n",
              "        google.colab.kernel.accessAllowed ? 'block' : 'none';\n",
              "    })();\n",
              "  </script>\n",
              "</div>\n",
              "\n",
              "    </div>\n",
              "  </div>\n"
            ],
            "application/vnd.google.colaboratory.intrinsic+json": {
              "type": "dataframe",
              "variable_name": "df",
              "summary": "{\n  \"name\": \"df\",\n  \"rows\": 1000,\n  \"fields\": [\n    {\n      \"column\": \"Review\",\n      \"properties\": {\n        \"dtype\": \"string\",\n        \"num_unique_values\": 996,\n        \"samples\": [\n          \"They were excellent.\",\n          \"Your servers suck, wait, correction, our server Heimer sucked.\",\n          \"Will be back again!\"\n        ],\n        \"semantic_type\": \"\",\n        \"description\": \"\"\n      }\n    },\n    {\n      \"column\": \"Liked\",\n      \"properties\": {\n        \"dtype\": \"number\",\n        \"std\": 0,\n        \"min\": 0,\n        \"max\": 1,\n        \"num_unique_values\": 2,\n        \"samples\": [\n          0,\n          1\n        ],\n        \"semantic_type\": \"\",\n        \"description\": \"\"\n      }\n    }\n  ]\n}"
            }
          },
          "metadata": {},
          "execution_count": 3
        }
      ]
    },
    {
      "cell_type": "code",
      "source": [
        "import re"
      ],
      "metadata": {
        "id": "hINze_l9F5e4"
      },
      "execution_count": 4,
      "outputs": []
    },
    {
      "cell_type": "code",
      "source": [
        "def preprocess_text(text: str):\n",
        "  text = text.lower()\n",
        "  text = re.sub(\"[^a-z0-9 ]\", \"\", text)\n",
        "  return text\n",
        ""
      ],
      "metadata": {
        "id": "A0CdiVbFGPO9"
      },
      "execution_count": 5,
      "outputs": []
    },
    {
      "cell_type": "code",
      "source": [
        "s1 = \"Wow!... This place, is amazing! 5 out of 5\"\n",
        "s1"
      ],
      "metadata": {
        "colab": {
          "base_uri": "https://localhost:8080/",
          "height": 35
        },
        "id": "ilbqXS83GS81",
        "outputId": "ed201c4d-416e-43d9-82a9-25319ee1022c"
      },
      "execution_count": 6,
      "outputs": [
        {
          "output_type": "execute_result",
          "data": {
            "text/plain": [
              "'Wow!... This place, is amazing! 5 out of 5'"
            ],
            "application/vnd.google.colaboratory.intrinsic+json": {
              "type": "string"
            }
          },
          "metadata": {},
          "execution_count": 6
        }
      ]
    },
    {
      "cell_type": "code",
      "source": [
        "preprocess_text(s1)"
      ],
      "metadata": {
        "colab": {
          "base_uri": "https://localhost:8080/",
          "height": 35
        },
        "id": "KPpM07JTGaES",
        "outputId": "94320d98-f3b2-4823-8a99-744ac1db359d"
      },
      "execution_count": 7,
      "outputs": [
        {
          "output_type": "execute_result",
          "data": {
            "text/plain": [
              "'wow this place is amazing 5 out of 5'"
            ],
            "application/vnd.google.colaboratory.intrinsic+json": {
              "type": "string"
            }
          },
          "metadata": {},
          "execution_count": 7
        }
      ]
    },
    {
      "cell_type": "markdown",
      "source": [
        "### Apply above preprocessing on entire data"
      ],
      "metadata": {
        "id": "GvDyZ2bC3D-1"
      }
    },
    {
      "cell_type": "code",
      "source": [
        "df[\"pre\"] = df[\"Review\"].apply(preprocess_text)\n",
        ""
      ],
      "metadata": {
        "id": "bGLWUfuoGm1Q"
      },
      "execution_count": 8,
      "outputs": []
    },
    {
      "cell_type": "code",
      "source": [
        "df"
      ],
      "metadata": {
        "colab": {
          "base_uri": "https://localhost:8080/",
          "height": 424
        },
        "id": "_BBgB8cZGkwD",
        "outputId": "de3740a3-bcd7-467d-eab3-caa489d8314e"
      },
      "execution_count": 9,
      "outputs": [
        {
          "output_type": "execute_result",
          "data": {
            "text/plain": [
              "                                                Review  Liked  \\\n",
              "0                             Wow... Loved this place.      1   \n",
              "1                                   Crust is not good.      0   \n",
              "2            Not tasty and the texture was just nasty.      0   \n",
              "3    Stopped by during the late May bank holiday of...      1   \n",
              "4    The selection on the menu was great and so wer...      1   \n",
              "..                                                 ...    ...   \n",
              "995  I think food should have flavor and texture an...      0   \n",
              "996                           Appetite instantly gone.      0   \n",
              "997  Overall I was not impressed and would not go b...      0   \n",
              "998  The whole experience was underwhelming, and I ...      0   \n",
              "999  Then, as if I hadn't wasted enough of my life ...      0   \n",
              "\n",
              "                                                   pre  \n",
              "0                                 wow loved this place  \n",
              "1                                    crust is not good  \n",
              "2             not tasty and the texture was just nasty  \n",
              "3    stopped by during the late may bank holiday of...  \n",
              "4    the selection on the menu was great and so wer...  \n",
              "..                                                 ...  \n",
              "995  i think food should have flavor and texture an...  \n",
              "996                            appetite instantly gone  \n",
              "997  overall i was not impressed and would not go back  \n",
              "998  the whole experience was underwhelming and i t...  \n",
              "999  then as if i hadnt wasted enough of my life th...  \n",
              "\n",
              "[1000 rows x 3 columns]"
            ],
            "text/html": [
              "\n",
              "  <div id=\"df-1d17cf5f-340c-4b49-b024-ffd237ce5abb\" class=\"colab-df-container\">\n",
              "    <div>\n",
              "<style scoped>\n",
              "    .dataframe tbody tr th:only-of-type {\n",
              "        vertical-align: middle;\n",
              "    }\n",
              "\n",
              "    .dataframe tbody tr th {\n",
              "        vertical-align: top;\n",
              "    }\n",
              "\n",
              "    .dataframe thead th {\n",
              "        text-align: right;\n",
              "    }\n",
              "</style>\n",
              "<table border=\"1\" class=\"dataframe\">\n",
              "  <thead>\n",
              "    <tr style=\"text-align: right;\">\n",
              "      <th></th>\n",
              "      <th>Review</th>\n",
              "      <th>Liked</th>\n",
              "      <th>pre</th>\n",
              "    </tr>\n",
              "  </thead>\n",
              "  <tbody>\n",
              "    <tr>\n",
              "      <th>0</th>\n",
              "      <td>Wow... Loved this place.</td>\n",
              "      <td>1</td>\n",
              "      <td>wow loved this place</td>\n",
              "    </tr>\n",
              "    <tr>\n",
              "      <th>1</th>\n",
              "      <td>Crust is not good.</td>\n",
              "      <td>0</td>\n",
              "      <td>crust is not good</td>\n",
              "    </tr>\n",
              "    <tr>\n",
              "      <th>2</th>\n",
              "      <td>Not tasty and the texture was just nasty.</td>\n",
              "      <td>0</td>\n",
              "      <td>not tasty and the texture was just nasty</td>\n",
              "    </tr>\n",
              "    <tr>\n",
              "      <th>3</th>\n",
              "      <td>Stopped by during the late May bank holiday of...</td>\n",
              "      <td>1</td>\n",
              "      <td>stopped by during the late may bank holiday of...</td>\n",
              "    </tr>\n",
              "    <tr>\n",
              "      <th>4</th>\n",
              "      <td>The selection on the menu was great and so wer...</td>\n",
              "      <td>1</td>\n",
              "      <td>the selection on the menu was great and so wer...</td>\n",
              "    </tr>\n",
              "    <tr>\n",
              "      <th>...</th>\n",
              "      <td>...</td>\n",
              "      <td>...</td>\n",
              "      <td>...</td>\n",
              "    </tr>\n",
              "    <tr>\n",
              "      <th>995</th>\n",
              "      <td>I think food should have flavor and texture an...</td>\n",
              "      <td>0</td>\n",
              "      <td>i think food should have flavor and texture an...</td>\n",
              "    </tr>\n",
              "    <tr>\n",
              "      <th>996</th>\n",
              "      <td>Appetite instantly gone.</td>\n",
              "      <td>0</td>\n",
              "      <td>appetite instantly gone</td>\n",
              "    </tr>\n",
              "    <tr>\n",
              "      <th>997</th>\n",
              "      <td>Overall I was not impressed and would not go b...</td>\n",
              "      <td>0</td>\n",
              "      <td>overall i was not impressed and would not go back</td>\n",
              "    </tr>\n",
              "    <tr>\n",
              "      <th>998</th>\n",
              "      <td>The whole experience was underwhelming, and I ...</td>\n",
              "      <td>0</td>\n",
              "      <td>the whole experience was underwhelming and i t...</td>\n",
              "    </tr>\n",
              "    <tr>\n",
              "      <th>999</th>\n",
              "      <td>Then, as if I hadn't wasted enough of my life ...</td>\n",
              "      <td>0</td>\n",
              "      <td>then as if i hadnt wasted enough of my life th...</td>\n",
              "    </tr>\n",
              "  </tbody>\n",
              "</table>\n",
              "<p>1000 rows × 3 columns</p>\n",
              "</div>\n",
              "    <div class=\"colab-df-buttons\">\n",
              "\n",
              "  <div class=\"colab-df-container\">\n",
              "    <button class=\"colab-df-convert\" onclick=\"convertToInteractive('df-1d17cf5f-340c-4b49-b024-ffd237ce5abb')\"\n",
              "            title=\"Convert this dataframe to an interactive table.\"\n",
              "            style=\"display:none;\">\n",
              "\n",
              "  <svg xmlns=\"http://www.w3.org/2000/svg\" height=\"24px\" viewBox=\"0 -960 960 960\">\n",
              "    <path d=\"M120-120v-720h720v720H120Zm60-500h600v-160H180v160Zm220 220h160v-160H400v160Zm0 220h160v-160H400v160ZM180-400h160v-160H180v160Zm440 0h160v-160H620v160ZM180-180h160v-160H180v160Zm440 0h160v-160H620v160Z\"/>\n",
              "  </svg>\n",
              "    </button>\n",
              "\n",
              "  <style>\n",
              "    .colab-df-container {\n",
              "      display:flex;\n",
              "      gap: 12px;\n",
              "    }\n",
              "\n",
              "    .colab-df-convert {\n",
              "      background-color: #E8F0FE;\n",
              "      border: none;\n",
              "      border-radius: 50%;\n",
              "      cursor: pointer;\n",
              "      display: none;\n",
              "      fill: #1967D2;\n",
              "      height: 32px;\n",
              "      padding: 0 0 0 0;\n",
              "      width: 32px;\n",
              "    }\n",
              "\n",
              "    .colab-df-convert:hover {\n",
              "      background-color: #E2EBFA;\n",
              "      box-shadow: 0px 1px 2px rgba(60, 64, 67, 0.3), 0px 1px 3px 1px rgba(60, 64, 67, 0.15);\n",
              "      fill: #174EA6;\n",
              "    }\n",
              "\n",
              "    .colab-df-buttons div {\n",
              "      margin-bottom: 4px;\n",
              "    }\n",
              "\n",
              "    [theme=dark] .colab-df-convert {\n",
              "      background-color: #3B4455;\n",
              "      fill: #D2E3FC;\n",
              "    }\n",
              "\n",
              "    [theme=dark] .colab-df-convert:hover {\n",
              "      background-color: #434B5C;\n",
              "      box-shadow: 0px 1px 3px 1px rgba(0, 0, 0, 0.15);\n",
              "      filter: drop-shadow(0px 1px 2px rgba(0, 0, 0, 0.3));\n",
              "      fill: #FFFFFF;\n",
              "    }\n",
              "  </style>\n",
              "\n",
              "    <script>\n",
              "      const buttonEl =\n",
              "        document.querySelector('#df-1d17cf5f-340c-4b49-b024-ffd237ce5abb button.colab-df-convert');\n",
              "      buttonEl.style.display =\n",
              "        google.colab.kernel.accessAllowed ? 'block' : 'none';\n",
              "\n",
              "      async function convertToInteractive(key) {\n",
              "        const element = document.querySelector('#df-1d17cf5f-340c-4b49-b024-ffd237ce5abb');\n",
              "        const dataTable =\n",
              "          await google.colab.kernel.invokeFunction('convertToInteractive',\n",
              "                                                    [key], {});\n",
              "        if (!dataTable) return;\n",
              "\n",
              "        const docLinkHtml = 'Like what you see? Visit the ' +\n",
              "          '<a target=\"_blank\" href=https://colab.research.google.com/notebooks/data_table.ipynb>data table notebook</a>'\n",
              "          + ' to learn more about interactive tables.';\n",
              "        element.innerHTML = '';\n",
              "        dataTable['output_type'] = 'display_data';\n",
              "        await google.colab.output.renderOutput(dataTable, element);\n",
              "        const docLink = document.createElement('div');\n",
              "        docLink.innerHTML = docLinkHtml;\n",
              "        element.appendChild(docLink);\n",
              "      }\n",
              "    </script>\n",
              "  </div>\n",
              "\n",
              "\n",
              "<div id=\"df-47c074d1-27dc-46a1-a7bb-5dedebd93511\">\n",
              "  <button class=\"colab-df-quickchart\" onclick=\"quickchart('df-47c074d1-27dc-46a1-a7bb-5dedebd93511')\"\n",
              "            title=\"Suggest charts\"\n",
              "            style=\"display:none;\">\n",
              "\n",
              "<svg xmlns=\"http://www.w3.org/2000/svg\" height=\"24px\"viewBox=\"0 0 24 24\"\n",
              "     width=\"24px\">\n",
              "    <g>\n",
              "        <path d=\"M19 3H5c-1.1 0-2 .9-2 2v14c0 1.1.9 2 2 2h14c1.1 0 2-.9 2-2V5c0-1.1-.9-2-2-2zM9 17H7v-7h2v7zm4 0h-2V7h2v10zm4 0h-2v-4h2v4z\"/>\n",
              "    </g>\n",
              "</svg>\n",
              "  </button>\n",
              "\n",
              "<style>\n",
              "  .colab-df-quickchart {\n",
              "      --bg-color: #E8F0FE;\n",
              "      --fill-color: #1967D2;\n",
              "      --hover-bg-color: #E2EBFA;\n",
              "      --hover-fill-color: #174EA6;\n",
              "      --disabled-fill-color: #AAA;\n",
              "      --disabled-bg-color: #DDD;\n",
              "  }\n",
              "\n",
              "  [theme=dark] .colab-df-quickchart {\n",
              "      --bg-color: #3B4455;\n",
              "      --fill-color: #D2E3FC;\n",
              "      --hover-bg-color: #434B5C;\n",
              "      --hover-fill-color: #FFFFFF;\n",
              "      --disabled-bg-color: #3B4455;\n",
              "      --disabled-fill-color: #666;\n",
              "  }\n",
              "\n",
              "  .colab-df-quickchart {\n",
              "    background-color: var(--bg-color);\n",
              "    border: none;\n",
              "    border-radius: 50%;\n",
              "    cursor: pointer;\n",
              "    display: none;\n",
              "    fill: var(--fill-color);\n",
              "    height: 32px;\n",
              "    padding: 0;\n",
              "    width: 32px;\n",
              "  }\n",
              "\n",
              "  .colab-df-quickchart:hover {\n",
              "    background-color: var(--hover-bg-color);\n",
              "    box-shadow: 0 1px 2px rgba(60, 64, 67, 0.3), 0 1px 3px 1px rgba(60, 64, 67, 0.15);\n",
              "    fill: var(--button-hover-fill-color);\n",
              "  }\n",
              "\n",
              "  .colab-df-quickchart-complete:disabled,\n",
              "  .colab-df-quickchart-complete:disabled:hover {\n",
              "    background-color: var(--disabled-bg-color);\n",
              "    fill: var(--disabled-fill-color);\n",
              "    box-shadow: none;\n",
              "  }\n",
              "\n",
              "  .colab-df-spinner {\n",
              "    border: 2px solid var(--fill-color);\n",
              "    border-color: transparent;\n",
              "    border-bottom-color: var(--fill-color);\n",
              "    animation:\n",
              "      spin 1s steps(1) infinite;\n",
              "  }\n",
              "\n",
              "  @keyframes spin {\n",
              "    0% {\n",
              "      border-color: transparent;\n",
              "      border-bottom-color: var(--fill-color);\n",
              "      border-left-color: var(--fill-color);\n",
              "    }\n",
              "    20% {\n",
              "      border-color: transparent;\n",
              "      border-left-color: var(--fill-color);\n",
              "      border-top-color: var(--fill-color);\n",
              "    }\n",
              "    30% {\n",
              "      border-color: transparent;\n",
              "      border-left-color: var(--fill-color);\n",
              "      border-top-color: var(--fill-color);\n",
              "      border-right-color: var(--fill-color);\n",
              "    }\n",
              "    40% {\n",
              "      border-color: transparent;\n",
              "      border-right-color: var(--fill-color);\n",
              "      border-top-color: var(--fill-color);\n",
              "    }\n",
              "    60% {\n",
              "      border-color: transparent;\n",
              "      border-right-color: var(--fill-color);\n",
              "    }\n",
              "    80% {\n",
              "      border-color: transparent;\n",
              "      border-right-color: var(--fill-color);\n",
              "      border-bottom-color: var(--fill-color);\n",
              "    }\n",
              "    90% {\n",
              "      border-color: transparent;\n",
              "      border-bottom-color: var(--fill-color);\n",
              "    }\n",
              "  }\n",
              "</style>\n",
              "\n",
              "  <script>\n",
              "    async function quickchart(key) {\n",
              "      const quickchartButtonEl =\n",
              "        document.querySelector('#' + key + ' button');\n",
              "      quickchartButtonEl.disabled = true;  // To prevent multiple clicks.\n",
              "      quickchartButtonEl.classList.add('colab-df-spinner');\n",
              "      try {\n",
              "        const charts = await google.colab.kernel.invokeFunction(\n",
              "            'suggestCharts', [key], {});\n",
              "      } catch (error) {\n",
              "        console.error('Error during call to suggestCharts:', error);\n",
              "      }\n",
              "      quickchartButtonEl.classList.remove('colab-df-spinner');\n",
              "      quickchartButtonEl.classList.add('colab-df-quickchart-complete');\n",
              "    }\n",
              "    (() => {\n",
              "      let quickchartButtonEl =\n",
              "        document.querySelector('#df-47c074d1-27dc-46a1-a7bb-5dedebd93511 button');\n",
              "      quickchartButtonEl.style.display =\n",
              "        google.colab.kernel.accessAllowed ? 'block' : 'none';\n",
              "    })();\n",
              "  </script>\n",
              "</div>\n",
              "\n",
              "  <div id=\"id_a6158e43-2fce-4f70-bd40-89b934aff83b\">\n",
              "    <style>\n",
              "      .colab-df-generate {\n",
              "        background-color: #E8F0FE;\n",
              "        border: none;\n",
              "        border-radius: 50%;\n",
              "        cursor: pointer;\n",
              "        display: none;\n",
              "        fill: #1967D2;\n",
              "        height: 32px;\n",
              "        padding: 0 0 0 0;\n",
              "        width: 32px;\n",
              "      }\n",
              "\n",
              "      .colab-df-generate:hover {\n",
              "        background-color: #E2EBFA;\n",
              "        box-shadow: 0px 1px 2px rgba(60, 64, 67, 0.3), 0px 1px 3px 1px rgba(60, 64, 67, 0.15);\n",
              "        fill: #174EA6;\n",
              "      }\n",
              "\n",
              "      [theme=dark] .colab-df-generate {\n",
              "        background-color: #3B4455;\n",
              "        fill: #D2E3FC;\n",
              "      }\n",
              "\n",
              "      [theme=dark] .colab-df-generate:hover {\n",
              "        background-color: #434B5C;\n",
              "        box-shadow: 0px 1px 3px 1px rgba(0, 0, 0, 0.15);\n",
              "        filter: drop-shadow(0px 1px 2px rgba(0, 0, 0, 0.3));\n",
              "        fill: #FFFFFF;\n",
              "      }\n",
              "    </style>\n",
              "    <button class=\"colab-df-generate\" onclick=\"generateWithVariable('df')\"\n",
              "            title=\"Generate code using this dataframe.\"\n",
              "            style=\"display:none;\">\n",
              "\n",
              "  <svg xmlns=\"http://www.w3.org/2000/svg\" height=\"24px\"viewBox=\"0 0 24 24\"\n",
              "       width=\"24px\">\n",
              "    <path d=\"M7,19H8.4L18.45,9,17,7.55,7,17.6ZM5,21V16.75L18.45,3.32a2,2,0,0,1,2.83,0l1.4,1.43a1.91,1.91,0,0,1,.58,1.4,1.91,1.91,0,0,1-.58,1.4L9.25,21ZM18.45,9,17,7.55Zm-12,3A5.31,5.31,0,0,0,4.9,8.1,5.31,5.31,0,0,0,1,6.5,5.31,5.31,0,0,0,4.9,4.9,5.31,5.31,0,0,0,6.5,1,5.31,5.31,0,0,0,8.1,4.9,5.31,5.31,0,0,0,12,6.5,5.46,5.46,0,0,0,6.5,12Z\"/>\n",
              "  </svg>\n",
              "    </button>\n",
              "    <script>\n",
              "      (() => {\n",
              "      const buttonEl =\n",
              "        document.querySelector('#id_a6158e43-2fce-4f70-bd40-89b934aff83b button.colab-df-generate');\n",
              "      buttonEl.style.display =\n",
              "        google.colab.kernel.accessAllowed ? 'block' : 'none';\n",
              "\n",
              "      buttonEl.onclick = () => {\n",
              "        google.colab.notebook.generateWithVariable('df');\n",
              "      }\n",
              "      })();\n",
              "    </script>\n",
              "  </div>\n",
              "\n",
              "    </div>\n",
              "  </div>\n"
            ],
            "application/vnd.google.colaboratory.intrinsic+json": {
              "type": "dataframe",
              "variable_name": "df",
              "summary": "{\n  \"name\": \"df\",\n  \"rows\": 1000,\n  \"fields\": [\n    {\n      \"column\": \"Review\",\n      \"properties\": {\n        \"dtype\": \"string\",\n        \"num_unique_values\": 996,\n        \"samples\": [\n          \"They were excellent.\",\n          \"Your servers suck, wait, correction, our server Heimer sucked.\",\n          \"Will be back again!\"\n        ],\n        \"semantic_type\": \"\",\n        \"description\": \"\"\n      }\n    },\n    {\n      \"column\": \"Liked\",\n      \"properties\": {\n        \"dtype\": \"number\",\n        \"std\": 0,\n        \"min\": 0,\n        \"max\": 1,\n        \"num_unique_values\": 2,\n        \"samples\": [\n          0,\n          1\n        ],\n        \"semantic_type\": \"\",\n        \"description\": \"\"\n      }\n    },\n    {\n      \"column\": \"pre\",\n      \"properties\": {\n        \"dtype\": \"string\",\n        \"num_unique_values\": 995,\n        \"samples\": [\n          \"i could barely stomach the meal but didnt complain because it was a business lunch\",\n          \"similarly the delivery man did not say a word of apology when our food was 45 minutes late\"\n        ],\n        \"semantic_type\": \"\",\n        \"description\": \"\"\n      }\n    }\n  ]\n}"
            }
          },
          "metadata": {},
          "execution_count": 9
        }
      ]
    },
    {
      "cell_type": "markdown",
      "source": [
        "### seperate X and Y"
      ],
      "metadata": {
        "id": "yRxaza7bGqvH"
      }
    },
    {
      "cell_type": "code",
      "source": [
        "X = df[\"pre\"]\n",
        "Y = df[[\"Liked\"]]"
      ],
      "metadata": {
        "id": "c99d3hwfGoZC"
      },
      "execution_count": 10,
      "outputs": []
    },
    {
      "cell_type": "code",
      "source": [
        "X.head()"
      ],
      "metadata": {
        "colab": {
          "base_uri": "https://localhost:8080/",
          "height": 241
        },
        "id": "C_Tuu3txGwTU",
        "outputId": "bfef89f6-3742-4fdd-9ea6-2d59d06d1687"
      },
      "execution_count": 11,
      "outputs": [
        {
          "output_type": "execute_result",
          "data": {
            "text/plain": [
              "0                                 wow loved this place\n",
              "1                                    crust is not good\n",
              "2             not tasty and the texture was just nasty\n",
              "3    stopped by during the late may bank holiday of...\n",
              "4    the selection on the menu was great and so wer...\n",
              "Name: pre, dtype: object"
            ],
            "text/html": [
              "<div>\n",
              "<style scoped>\n",
              "    .dataframe tbody tr th:only-of-type {\n",
              "        vertical-align: middle;\n",
              "    }\n",
              "\n",
              "    .dataframe tbody tr th {\n",
              "        vertical-align: top;\n",
              "    }\n",
              "\n",
              "    .dataframe thead th {\n",
              "        text-align: right;\n",
              "    }\n",
              "</style>\n",
              "<table border=\"1\" class=\"dataframe\">\n",
              "  <thead>\n",
              "    <tr style=\"text-align: right;\">\n",
              "      <th></th>\n",
              "      <th>pre</th>\n",
              "    </tr>\n",
              "  </thead>\n",
              "  <tbody>\n",
              "    <tr>\n",
              "      <th>0</th>\n",
              "      <td>wow loved this place</td>\n",
              "    </tr>\n",
              "    <tr>\n",
              "      <th>1</th>\n",
              "      <td>crust is not good</td>\n",
              "    </tr>\n",
              "    <tr>\n",
              "      <th>2</th>\n",
              "      <td>not tasty and the texture was just nasty</td>\n",
              "    </tr>\n",
              "    <tr>\n",
              "      <th>3</th>\n",
              "      <td>stopped by during the late may bank holiday of...</td>\n",
              "    </tr>\n",
              "    <tr>\n",
              "      <th>4</th>\n",
              "      <td>the selection on the menu was great and so wer...</td>\n",
              "    </tr>\n",
              "  </tbody>\n",
              "</table>\n",
              "</div><br><label><b>dtype:</b> object</label>"
            ]
          },
          "metadata": {},
          "execution_count": 11
        }
      ]
    },
    {
      "cell_type": "code",
      "source": [
        "Y.head()"
      ],
      "metadata": {
        "colab": {
          "base_uri": "https://localhost:8080/",
          "height": 206
        },
        "id": "L_2TKZcqGyZp",
        "outputId": "73f33240-2e6b-446d-e1f2-ff15ccc34cfe"
      },
      "execution_count": 12,
      "outputs": [
        {
          "output_type": "execute_result",
          "data": {
            "text/plain": [
              "   Liked\n",
              "0      1\n",
              "1      0\n",
              "2      0\n",
              "3      1\n",
              "4      1"
            ],
            "text/html": [
              "\n",
              "  <div id=\"df-23e32395-aa0b-42b8-88a4-7b3299ff3aab\" class=\"colab-df-container\">\n",
              "    <div>\n",
              "<style scoped>\n",
              "    .dataframe tbody tr th:only-of-type {\n",
              "        vertical-align: middle;\n",
              "    }\n",
              "\n",
              "    .dataframe tbody tr th {\n",
              "        vertical-align: top;\n",
              "    }\n",
              "\n",
              "    .dataframe thead th {\n",
              "        text-align: right;\n",
              "    }\n",
              "</style>\n",
              "<table border=\"1\" class=\"dataframe\">\n",
              "  <thead>\n",
              "    <tr style=\"text-align: right;\">\n",
              "      <th></th>\n",
              "      <th>Liked</th>\n",
              "    </tr>\n",
              "  </thead>\n",
              "  <tbody>\n",
              "    <tr>\n",
              "      <th>0</th>\n",
              "      <td>1</td>\n",
              "    </tr>\n",
              "    <tr>\n",
              "      <th>1</th>\n",
              "      <td>0</td>\n",
              "    </tr>\n",
              "    <tr>\n",
              "      <th>2</th>\n",
              "      <td>0</td>\n",
              "    </tr>\n",
              "    <tr>\n",
              "      <th>3</th>\n",
              "      <td>1</td>\n",
              "    </tr>\n",
              "    <tr>\n",
              "      <th>4</th>\n",
              "      <td>1</td>\n",
              "    </tr>\n",
              "  </tbody>\n",
              "</table>\n",
              "</div>\n",
              "    <div class=\"colab-df-buttons\">\n",
              "\n",
              "  <div class=\"colab-df-container\">\n",
              "    <button class=\"colab-df-convert\" onclick=\"convertToInteractive('df-23e32395-aa0b-42b8-88a4-7b3299ff3aab')\"\n",
              "            title=\"Convert this dataframe to an interactive table.\"\n",
              "            style=\"display:none;\">\n",
              "\n",
              "  <svg xmlns=\"http://www.w3.org/2000/svg\" height=\"24px\" viewBox=\"0 -960 960 960\">\n",
              "    <path d=\"M120-120v-720h720v720H120Zm60-500h600v-160H180v160Zm220 220h160v-160H400v160Zm0 220h160v-160H400v160ZM180-400h160v-160H180v160Zm440 0h160v-160H620v160ZM180-180h160v-160H180v160Zm440 0h160v-160H620v160Z\"/>\n",
              "  </svg>\n",
              "    </button>\n",
              "\n",
              "  <style>\n",
              "    .colab-df-container {\n",
              "      display:flex;\n",
              "      gap: 12px;\n",
              "    }\n",
              "\n",
              "    .colab-df-convert {\n",
              "      background-color: #E8F0FE;\n",
              "      border: none;\n",
              "      border-radius: 50%;\n",
              "      cursor: pointer;\n",
              "      display: none;\n",
              "      fill: #1967D2;\n",
              "      height: 32px;\n",
              "      padding: 0 0 0 0;\n",
              "      width: 32px;\n",
              "    }\n",
              "\n",
              "    .colab-df-convert:hover {\n",
              "      background-color: #E2EBFA;\n",
              "      box-shadow: 0px 1px 2px rgba(60, 64, 67, 0.3), 0px 1px 3px 1px rgba(60, 64, 67, 0.15);\n",
              "      fill: #174EA6;\n",
              "    }\n",
              "\n",
              "    .colab-df-buttons div {\n",
              "      margin-bottom: 4px;\n",
              "    }\n",
              "\n",
              "    [theme=dark] .colab-df-convert {\n",
              "      background-color: #3B4455;\n",
              "      fill: #D2E3FC;\n",
              "    }\n",
              "\n",
              "    [theme=dark] .colab-df-convert:hover {\n",
              "      background-color: #434B5C;\n",
              "      box-shadow: 0px 1px 3px 1px rgba(0, 0, 0, 0.15);\n",
              "      filter: drop-shadow(0px 1px 2px rgba(0, 0, 0, 0.3));\n",
              "      fill: #FFFFFF;\n",
              "    }\n",
              "  </style>\n",
              "\n",
              "    <script>\n",
              "      const buttonEl =\n",
              "        document.querySelector('#df-23e32395-aa0b-42b8-88a4-7b3299ff3aab button.colab-df-convert');\n",
              "      buttonEl.style.display =\n",
              "        google.colab.kernel.accessAllowed ? 'block' : 'none';\n",
              "\n",
              "      async function convertToInteractive(key) {\n",
              "        const element = document.querySelector('#df-23e32395-aa0b-42b8-88a4-7b3299ff3aab');\n",
              "        const dataTable =\n",
              "          await google.colab.kernel.invokeFunction('convertToInteractive',\n",
              "                                                    [key], {});\n",
              "        if (!dataTable) return;\n",
              "\n",
              "        const docLinkHtml = 'Like what you see? Visit the ' +\n",
              "          '<a target=\"_blank\" href=https://colab.research.google.com/notebooks/data_table.ipynb>data table notebook</a>'\n",
              "          + ' to learn more about interactive tables.';\n",
              "        element.innerHTML = '';\n",
              "        dataTable['output_type'] = 'display_data';\n",
              "        await google.colab.output.renderOutput(dataTable, element);\n",
              "        const docLink = document.createElement('div');\n",
              "        docLink.innerHTML = docLinkHtml;\n",
              "        element.appendChild(docLink);\n",
              "      }\n",
              "    </script>\n",
              "  </div>\n",
              "\n",
              "\n",
              "<div id=\"df-6f881e6e-1164-45b2-b76f-4ce4f5041822\">\n",
              "  <button class=\"colab-df-quickchart\" onclick=\"quickchart('df-6f881e6e-1164-45b2-b76f-4ce4f5041822')\"\n",
              "            title=\"Suggest charts\"\n",
              "            style=\"display:none;\">\n",
              "\n",
              "<svg xmlns=\"http://www.w3.org/2000/svg\" height=\"24px\"viewBox=\"0 0 24 24\"\n",
              "     width=\"24px\">\n",
              "    <g>\n",
              "        <path d=\"M19 3H5c-1.1 0-2 .9-2 2v14c0 1.1.9 2 2 2h14c1.1 0 2-.9 2-2V5c0-1.1-.9-2-2-2zM9 17H7v-7h2v7zm4 0h-2V7h2v10zm4 0h-2v-4h2v4z\"/>\n",
              "    </g>\n",
              "</svg>\n",
              "  </button>\n",
              "\n",
              "<style>\n",
              "  .colab-df-quickchart {\n",
              "      --bg-color: #E8F0FE;\n",
              "      --fill-color: #1967D2;\n",
              "      --hover-bg-color: #E2EBFA;\n",
              "      --hover-fill-color: #174EA6;\n",
              "      --disabled-fill-color: #AAA;\n",
              "      --disabled-bg-color: #DDD;\n",
              "  }\n",
              "\n",
              "  [theme=dark] .colab-df-quickchart {\n",
              "      --bg-color: #3B4455;\n",
              "      --fill-color: #D2E3FC;\n",
              "      --hover-bg-color: #434B5C;\n",
              "      --hover-fill-color: #FFFFFF;\n",
              "      --disabled-bg-color: #3B4455;\n",
              "      --disabled-fill-color: #666;\n",
              "  }\n",
              "\n",
              "  .colab-df-quickchart {\n",
              "    background-color: var(--bg-color);\n",
              "    border: none;\n",
              "    border-radius: 50%;\n",
              "    cursor: pointer;\n",
              "    display: none;\n",
              "    fill: var(--fill-color);\n",
              "    height: 32px;\n",
              "    padding: 0;\n",
              "    width: 32px;\n",
              "  }\n",
              "\n",
              "  .colab-df-quickchart:hover {\n",
              "    background-color: var(--hover-bg-color);\n",
              "    box-shadow: 0 1px 2px rgba(60, 64, 67, 0.3), 0 1px 3px 1px rgba(60, 64, 67, 0.15);\n",
              "    fill: var(--button-hover-fill-color);\n",
              "  }\n",
              "\n",
              "  .colab-df-quickchart-complete:disabled,\n",
              "  .colab-df-quickchart-complete:disabled:hover {\n",
              "    background-color: var(--disabled-bg-color);\n",
              "    fill: var(--disabled-fill-color);\n",
              "    box-shadow: none;\n",
              "  }\n",
              "\n",
              "  .colab-df-spinner {\n",
              "    border: 2px solid var(--fill-color);\n",
              "    border-color: transparent;\n",
              "    border-bottom-color: var(--fill-color);\n",
              "    animation:\n",
              "      spin 1s steps(1) infinite;\n",
              "  }\n",
              "\n",
              "  @keyframes spin {\n",
              "    0% {\n",
              "      border-color: transparent;\n",
              "      border-bottom-color: var(--fill-color);\n",
              "      border-left-color: var(--fill-color);\n",
              "    }\n",
              "    20% {\n",
              "      border-color: transparent;\n",
              "      border-left-color: var(--fill-color);\n",
              "      border-top-color: var(--fill-color);\n",
              "    }\n",
              "    30% {\n",
              "      border-color: transparent;\n",
              "      border-left-color: var(--fill-color);\n",
              "      border-top-color: var(--fill-color);\n",
              "      border-right-color: var(--fill-color);\n",
              "    }\n",
              "    40% {\n",
              "      border-color: transparent;\n",
              "      border-right-color: var(--fill-color);\n",
              "      border-top-color: var(--fill-color);\n",
              "    }\n",
              "    60% {\n",
              "      border-color: transparent;\n",
              "      border-right-color: var(--fill-color);\n",
              "    }\n",
              "    80% {\n",
              "      border-color: transparent;\n",
              "      border-right-color: var(--fill-color);\n",
              "      border-bottom-color: var(--fill-color);\n",
              "    }\n",
              "    90% {\n",
              "      border-color: transparent;\n",
              "      border-bottom-color: var(--fill-color);\n",
              "    }\n",
              "  }\n",
              "</style>\n",
              "\n",
              "  <script>\n",
              "    async function quickchart(key) {\n",
              "      const quickchartButtonEl =\n",
              "        document.querySelector('#' + key + ' button');\n",
              "      quickchartButtonEl.disabled = true;  // To prevent multiple clicks.\n",
              "      quickchartButtonEl.classList.add('colab-df-spinner');\n",
              "      try {\n",
              "        const charts = await google.colab.kernel.invokeFunction(\n",
              "            'suggestCharts', [key], {});\n",
              "      } catch (error) {\n",
              "        console.error('Error during call to suggestCharts:', error);\n",
              "      }\n",
              "      quickchartButtonEl.classList.remove('colab-df-spinner');\n",
              "      quickchartButtonEl.classList.add('colab-df-quickchart-complete');\n",
              "    }\n",
              "    (() => {\n",
              "      let quickchartButtonEl =\n",
              "        document.querySelector('#df-6f881e6e-1164-45b2-b76f-4ce4f5041822 button');\n",
              "      quickchartButtonEl.style.display =\n",
              "        google.colab.kernel.accessAllowed ? 'block' : 'none';\n",
              "    })();\n",
              "  </script>\n",
              "</div>\n",
              "\n",
              "    </div>\n",
              "  </div>\n"
            ],
            "application/vnd.google.colaboratory.intrinsic+json": {
              "type": "dataframe",
              "variable_name": "Y",
              "summary": "{\n  \"name\": \"Y\",\n  \"rows\": 1000,\n  \"fields\": [\n    {\n      \"column\": \"Liked\",\n      \"properties\": {\n        \"dtype\": \"number\",\n        \"std\": 0,\n        \"min\": 0,\n        \"max\": 1,\n        \"num_unique_values\": 2,\n        \"samples\": [\n          0,\n          1\n        ],\n        \"semantic_type\": \"\",\n        \"description\": \"\"\n      }\n    }\n  ]\n}"
            }
          },
          "metadata": {},
          "execution_count": 12
        }
      ]
    },
    {
      "cell_type": "code",
      "source": [
        "Y.value_counts()"
      ],
      "metadata": {
        "colab": {
          "base_uri": "https://localhost:8080/",
          "height": 178
        },
        "id": "BoATP9B2G2Q7",
        "outputId": "25110a13-4f63-483a-cfbf-02754167276a"
      },
      "execution_count": 13,
      "outputs": [
        {
          "output_type": "execute_result",
          "data": {
            "text/plain": [
              "Liked\n",
              "0        500\n",
              "1        500\n",
              "Name: count, dtype: int64"
            ],
            "text/html": [
              "<div>\n",
              "<style scoped>\n",
              "    .dataframe tbody tr th:only-of-type {\n",
              "        vertical-align: middle;\n",
              "    }\n",
              "\n",
              "    .dataframe tbody tr th {\n",
              "        vertical-align: top;\n",
              "    }\n",
              "\n",
              "    .dataframe thead th {\n",
              "        text-align: right;\n",
              "    }\n",
              "</style>\n",
              "<table border=\"1\" class=\"dataframe\">\n",
              "  <thead>\n",
              "    <tr style=\"text-align: right;\">\n",
              "      <th></th>\n",
              "      <th>count</th>\n",
              "    </tr>\n",
              "    <tr>\n",
              "      <th>Liked</th>\n",
              "      <th></th>\n",
              "    </tr>\n",
              "  </thead>\n",
              "  <tbody>\n",
              "    <tr>\n",
              "      <th>0</th>\n",
              "      <td>500</td>\n",
              "    </tr>\n",
              "    <tr>\n",
              "      <th>1</th>\n",
              "      <td>500</td>\n",
              "    </tr>\n",
              "  </tbody>\n",
              "</table>\n",
              "</div><br><label><b>dtype:</b> int64</label>"
            ]
          },
          "metadata": {},
          "execution_count": 13
        }
      ]
    },
    {
      "cell_type": "markdown",
      "source": [
        "### Apply TFIDF"
      ],
      "metadata": {
        "id": "qT37maOuG7fn"
      }
    },
    {
      "cell_type": "code",
      "source": [
        "from sklearn.feature_extraction.text import TfidfVectorizer"
      ],
      "metadata": {
        "id": "pzC6Kyq5G5NY"
      },
      "execution_count": 14,
      "outputs": []
    },
    {
      "cell_type": "code",
      "source": [
        "tfidf = TfidfVectorizer()\n",
        "X_pre = tfidf.fit_transform(X).toarray()\n",
        "X_pre"
      ],
      "metadata": {
        "colab": {
          "base_uri": "https://localhost:8080/"
        },
        "id": "mflu8oIVHDPb",
        "outputId": "4a039fe4-eb7b-4deb-a544-412e971c55f5"
      },
      "execution_count": 15,
      "outputs": [
        {
          "output_type": "execute_result",
          "data": {
            "text/plain": [
              "array([[0., 0., 0., ..., 0., 0., 0.],\n",
              "       [0., 0., 0., ..., 0., 0., 0.],\n",
              "       [0., 0., 0., ..., 0., 0., 0.],\n",
              "       ...,\n",
              "       [0., 0., 0., ..., 0., 0., 0.],\n",
              "       [0., 0., 0., ..., 0., 0., 0.],\n",
              "       [0., 0., 0., ..., 0., 0., 0.]])"
            ]
          },
          "metadata": {},
          "execution_count": 15
        }
      ]
    },
    {
      "cell_type": "code",
      "source": [
        "X_pre.shape"
      ],
      "metadata": {
        "colab": {
          "base_uri": "https://localhost:8080/"
        },
        "id": "42oPhFpEHGE2",
        "outputId": "8b1912e3-fe1f-48e4-f813-0205c738fe42"
      },
      "execution_count": 16,
      "outputs": [
        {
          "output_type": "execute_result",
          "data": {
            "text/plain": [
              "(1000, 2067)"
            ]
          },
          "metadata": {},
          "execution_count": 16
        }
      ]
    },
    {
      "cell_type": "markdown",
      "source": [
        "### Dimensionality Reduction"
      ],
      "metadata": {
        "id": "u_sL3FfyHM8u"
      }
    },
    {
      "cell_type": "markdown",
      "source": [
        "Reduce the number of columns by mainting most of information from data"
      ],
      "metadata": {
        "id": "l13YOWV_HRyP"
      }
    },
    {
      "cell_type": "markdown",
      "source": [
        "SVD - Singular Value Decomposition"
      ],
      "metadata": {
        "id": "N-_seTizHX2C"
      }
    },
    {
      "cell_type": "code",
      "source": [
        "from sklearn.decomposition import TruncatedSVD\n",
        ""
      ],
      "metadata": {
        "id": "bBeru8lxHLVn"
      },
      "execution_count": 17,
      "outputs": []
    },
    {
      "cell_type": "code",
      "source": [
        "n_components = 300\n",
        "svd = TruncatedSVD(n_components)\n",
        "X_pre_red = svd.fit_transform(X_pre)\n",
        "X_pre_red"
      ],
      "metadata": {
        "colab": {
          "base_uri": "https://localhost:8080/"
        },
        "id": "WQofHAObHceT",
        "outputId": "435457c7-eb7f-48a3-d93e-4bb21889ea2a"
      },
      "execution_count": 18,
      "outputs": [
        {
          "output_type": "execute_result",
          "data": {
            "text/plain": [
              "array([[ 0.11457856,  0.19021731,  0.29860515, ..., -0.04790719,\n",
              "         0.02047598,  0.02003333],\n",
              "       [ 0.20041515,  0.06219206,  0.10386267, ...,  0.06448983,\n",
              "        -0.01579065, -0.02628154],\n",
              "       [ 0.248602  , -0.05947124, -0.09197253, ..., -0.00665025,\n",
              "        -0.00271983,  0.01432559],\n",
              "       ...,\n",
              "       [ 0.25745938,  0.21354303, -0.25268861, ..., -0.00824413,\n",
              "        -0.00128244,  0.00950096],\n",
              "       [ 0.21755074,  0.04422347, -0.07900026, ...,  0.01501803,\n",
              "         0.00998952,  0.00933837],\n",
              "       [ 0.22278543,  0.02689928, -0.02221587, ..., -0.00680421,\n",
              "        -0.00471982,  0.04269368]])"
            ]
          },
          "metadata": {},
          "execution_count": 18
        }
      ]
    },
    {
      "cell_type": "code",
      "source": [
        "\n",
        "X_pre_red.shape"
      ],
      "metadata": {
        "colab": {
          "base_uri": "https://localhost:8080/"
        },
        "id": "TCVxZ_G6Hi-J",
        "outputId": "2a086c23-0de6-4141-f358-1bf30887e00f"
      },
      "execution_count": 19,
      "outputs": [
        {
          "output_type": "execute_result",
          "data": {
            "text/plain": [
              "(1000, 300)"
            ]
          },
          "metadata": {},
          "execution_count": 19
        }
      ]
    },
    {
      "cell_type": "markdown",
      "source": [
        "### TFIDF > SVD - Latent Semantic Analysis (LSA)"
      ],
      "metadata": {
        "id": "g-rgHzXaHonG"
      }
    },
    {
      "cell_type": "markdown",
      "source": [
        "### Apply Train Test split\n"
      ],
      "metadata": {
        "id": "GBsVu-1NHt1W"
      }
    },
    {
      "cell_type": "code",
      "source": [
        "from sklearn.model_selection import train_test_split\n",
        "\n",
        "xtrain, xtest, ytrain, ytest = train_test_split(X_pre_red, Y, test_size=0.2, random_state=42)\n",
        ""
      ],
      "metadata": {
        "id": "o7Z_VCi_HnF0"
      },
      "execution_count": 20,
      "outputs": []
    },
    {
      "cell_type": "code",
      "source": [
        "xtrain"
      ],
      "metadata": {
        "colab": {
          "base_uri": "https://localhost:8080/"
        },
        "id": "fRCu7TWWInEf",
        "outputId": "335f64ae-b9d1-4d9c-b1dd-d35706871764"
      },
      "execution_count": 21,
      "outputs": [
        {
          "output_type": "execute_result",
          "data": {
            "text/plain": [
              "array([[ 0.22714971, -0.13552748, -0.05020056, ..., -0.01671619,\n",
              "        -0.00669095,  0.0773443 ],\n",
              "       [ 0.04699212,  0.0134224 ,  0.03451726, ..., -0.03352717,\n",
              "        -0.05042509, -0.03190388],\n",
              "       [ 0.19705026, -0.13148614, -0.08873097, ..., -0.01098776,\n",
              "        -0.00058464, -0.01183101],\n",
              "       ...,\n",
              "       [ 0.28454308,  0.11308599,  0.31554384, ...,  0.00602828,\n",
              "        -0.00662823, -0.01561054],\n",
              "       [ 0.16594076, -0.07105197, -0.05824824, ...,  0.03020299,\n",
              "        -0.03945519,  0.02054962],\n",
              "       [ 0.17456908,  0.04421883,  0.01479549, ...,  0.03562435,\n",
              "        -0.01680646,  0.017889  ]])"
            ]
          },
          "metadata": {},
          "execution_count": 21
        }
      ]
    },
    {
      "cell_type": "code",
      "source": [
        "ytrain"
      ],
      "metadata": {
        "colab": {
          "base_uri": "https://localhost:8080/",
          "height": 424
        },
        "id": "rGWcbL-_IsW7",
        "outputId": "f1e042cb-7ef5-474b-c5ea-752fd9f32a26"
      },
      "execution_count": 22,
      "outputs": [
        {
          "output_type": "execute_result",
          "data": {
            "text/plain": [
              "     Liked\n",
              "29       0\n",
              "535      1\n",
              "695      0\n",
              "557      0\n",
              "836      1\n",
              "..     ...\n",
              "106      1\n",
              "270      1\n",
              "860      1\n",
              "435      0\n",
              "102      1\n",
              "\n",
              "[800 rows x 1 columns]"
            ],
            "text/html": [
              "\n",
              "  <div id=\"df-3cfe1e6c-260c-4510-a794-9b20f14286d1\" class=\"colab-df-container\">\n",
              "    <div>\n",
              "<style scoped>\n",
              "    .dataframe tbody tr th:only-of-type {\n",
              "        vertical-align: middle;\n",
              "    }\n",
              "\n",
              "    .dataframe tbody tr th {\n",
              "        vertical-align: top;\n",
              "    }\n",
              "\n",
              "    .dataframe thead th {\n",
              "        text-align: right;\n",
              "    }\n",
              "</style>\n",
              "<table border=\"1\" class=\"dataframe\">\n",
              "  <thead>\n",
              "    <tr style=\"text-align: right;\">\n",
              "      <th></th>\n",
              "      <th>Liked</th>\n",
              "    </tr>\n",
              "  </thead>\n",
              "  <tbody>\n",
              "    <tr>\n",
              "      <th>29</th>\n",
              "      <td>0</td>\n",
              "    </tr>\n",
              "    <tr>\n",
              "      <th>535</th>\n",
              "      <td>1</td>\n",
              "    </tr>\n",
              "    <tr>\n",
              "      <th>695</th>\n",
              "      <td>0</td>\n",
              "    </tr>\n",
              "    <tr>\n",
              "      <th>557</th>\n",
              "      <td>0</td>\n",
              "    </tr>\n",
              "    <tr>\n",
              "      <th>836</th>\n",
              "      <td>1</td>\n",
              "    </tr>\n",
              "    <tr>\n",
              "      <th>...</th>\n",
              "      <td>...</td>\n",
              "    </tr>\n",
              "    <tr>\n",
              "      <th>106</th>\n",
              "      <td>1</td>\n",
              "    </tr>\n",
              "    <tr>\n",
              "      <th>270</th>\n",
              "      <td>1</td>\n",
              "    </tr>\n",
              "    <tr>\n",
              "      <th>860</th>\n",
              "      <td>1</td>\n",
              "    </tr>\n",
              "    <tr>\n",
              "      <th>435</th>\n",
              "      <td>0</td>\n",
              "    </tr>\n",
              "    <tr>\n",
              "      <th>102</th>\n",
              "      <td>1</td>\n",
              "    </tr>\n",
              "  </tbody>\n",
              "</table>\n",
              "<p>800 rows × 1 columns</p>\n",
              "</div>\n",
              "    <div class=\"colab-df-buttons\">\n",
              "\n",
              "  <div class=\"colab-df-container\">\n",
              "    <button class=\"colab-df-convert\" onclick=\"convertToInteractive('df-3cfe1e6c-260c-4510-a794-9b20f14286d1')\"\n",
              "            title=\"Convert this dataframe to an interactive table.\"\n",
              "            style=\"display:none;\">\n",
              "\n",
              "  <svg xmlns=\"http://www.w3.org/2000/svg\" height=\"24px\" viewBox=\"0 -960 960 960\">\n",
              "    <path d=\"M120-120v-720h720v720H120Zm60-500h600v-160H180v160Zm220 220h160v-160H400v160Zm0 220h160v-160H400v160ZM180-400h160v-160H180v160Zm440 0h160v-160H620v160ZM180-180h160v-160H180v160Zm440 0h160v-160H620v160Z\"/>\n",
              "  </svg>\n",
              "    </button>\n",
              "\n",
              "  <style>\n",
              "    .colab-df-container {\n",
              "      display:flex;\n",
              "      gap: 12px;\n",
              "    }\n",
              "\n",
              "    .colab-df-convert {\n",
              "      background-color: #E8F0FE;\n",
              "      border: none;\n",
              "      border-radius: 50%;\n",
              "      cursor: pointer;\n",
              "      display: none;\n",
              "      fill: #1967D2;\n",
              "      height: 32px;\n",
              "      padding: 0 0 0 0;\n",
              "      width: 32px;\n",
              "    }\n",
              "\n",
              "    .colab-df-convert:hover {\n",
              "      background-color: #E2EBFA;\n",
              "      box-shadow: 0px 1px 2px rgba(60, 64, 67, 0.3), 0px 1px 3px 1px rgba(60, 64, 67, 0.15);\n",
              "      fill: #174EA6;\n",
              "    }\n",
              "\n",
              "    .colab-df-buttons div {\n",
              "      margin-bottom: 4px;\n",
              "    }\n",
              "\n",
              "    [theme=dark] .colab-df-convert {\n",
              "      background-color: #3B4455;\n",
              "      fill: #D2E3FC;\n",
              "    }\n",
              "\n",
              "    [theme=dark] .colab-df-convert:hover {\n",
              "      background-color: #434B5C;\n",
              "      box-shadow: 0px 1px 3px 1px rgba(0, 0, 0, 0.15);\n",
              "      filter: drop-shadow(0px 1px 2px rgba(0, 0, 0, 0.3));\n",
              "      fill: #FFFFFF;\n",
              "    }\n",
              "  </style>\n",
              "\n",
              "    <script>\n",
              "      const buttonEl =\n",
              "        document.querySelector('#df-3cfe1e6c-260c-4510-a794-9b20f14286d1 button.colab-df-convert');\n",
              "      buttonEl.style.display =\n",
              "        google.colab.kernel.accessAllowed ? 'block' : 'none';\n",
              "\n",
              "      async function convertToInteractive(key) {\n",
              "        const element = document.querySelector('#df-3cfe1e6c-260c-4510-a794-9b20f14286d1');\n",
              "        const dataTable =\n",
              "          await google.colab.kernel.invokeFunction('convertToInteractive',\n",
              "                                                    [key], {});\n",
              "        if (!dataTable) return;\n",
              "\n",
              "        const docLinkHtml = 'Like what you see? Visit the ' +\n",
              "          '<a target=\"_blank\" href=https://colab.research.google.com/notebooks/data_table.ipynb>data table notebook</a>'\n",
              "          + ' to learn more about interactive tables.';\n",
              "        element.innerHTML = '';\n",
              "        dataTable['output_type'] = 'display_data';\n",
              "        await google.colab.output.renderOutput(dataTable, element);\n",
              "        const docLink = document.createElement('div');\n",
              "        docLink.innerHTML = docLinkHtml;\n",
              "        element.appendChild(docLink);\n",
              "      }\n",
              "    </script>\n",
              "  </div>\n",
              "\n",
              "\n",
              "<div id=\"df-a9d9a1f6-3a77-442f-b6d9-b78cb100a367\">\n",
              "  <button class=\"colab-df-quickchart\" onclick=\"quickchart('df-a9d9a1f6-3a77-442f-b6d9-b78cb100a367')\"\n",
              "            title=\"Suggest charts\"\n",
              "            style=\"display:none;\">\n",
              "\n",
              "<svg xmlns=\"http://www.w3.org/2000/svg\" height=\"24px\"viewBox=\"0 0 24 24\"\n",
              "     width=\"24px\">\n",
              "    <g>\n",
              "        <path d=\"M19 3H5c-1.1 0-2 .9-2 2v14c0 1.1.9 2 2 2h14c1.1 0 2-.9 2-2V5c0-1.1-.9-2-2-2zM9 17H7v-7h2v7zm4 0h-2V7h2v10zm4 0h-2v-4h2v4z\"/>\n",
              "    </g>\n",
              "</svg>\n",
              "  </button>\n",
              "\n",
              "<style>\n",
              "  .colab-df-quickchart {\n",
              "      --bg-color: #E8F0FE;\n",
              "      --fill-color: #1967D2;\n",
              "      --hover-bg-color: #E2EBFA;\n",
              "      --hover-fill-color: #174EA6;\n",
              "      --disabled-fill-color: #AAA;\n",
              "      --disabled-bg-color: #DDD;\n",
              "  }\n",
              "\n",
              "  [theme=dark] .colab-df-quickchart {\n",
              "      --bg-color: #3B4455;\n",
              "      --fill-color: #D2E3FC;\n",
              "      --hover-bg-color: #434B5C;\n",
              "      --hover-fill-color: #FFFFFF;\n",
              "      --disabled-bg-color: #3B4455;\n",
              "      --disabled-fill-color: #666;\n",
              "  }\n",
              "\n",
              "  .colab-df-quickchart {\n",
              "    background-color: var(--bg-color);\n",
              "    border: none;\n",
              "    border-radius: 50%;\n",
              "    cursor: pointer;\n",
              "    display: none;\n",
              "    fill: var(--fill-color);\n",
              "    height: 32px;\n",
              "    padding: 0;\n",
              "    width: 32px;\n",
              "  }\n",
              "\n",
              "  .colab-df-quickchart:hover {\n",
              "    background-color: var(--hover-bg-color);\n",
              "    box-shadow: 0 1px 2px rgba(60, 64, 67, 0.3), 0 1px 3px 1px rgba(60, 64, 67, 0.15);\n",
              "    fill: var(--button-hover-fill-color);\n",
              "  }\n",
              "\n",
              "  .colab-df-quickchart-complete:disabled,\n",
              "  .colab-df-quickchart-complete:disabled:hover {\n",
              "    background-color: var(--disabled-bg-color);\n",
              "    fill: var(--disabled-fill-color);\n",
              "    box-shadow: none;\n",
              "  }\n",
              "\n",
              "  .colab-df-spinner {\n",
              "    border: 2px solid var(--fill-color);\n",
              "    border-color: transparent;\n",
              "    border-bottom-color: var(--fill-color);\n",
              "    animation:\n",
              "      spin 1s steps(1) infinite;\n",
              "  }\n",
              "\n",
              "  @keyframes spin {\n",
              "    0% {\n",
              "      border-color: transparent;\n",
              "      border-bottom-color: var(--fill-color);\n",
              "      border-left-color: var(--fill-color);\n",
              "    }\n",
              "    20% {\n",
              "      border-color: transparent;\n",
              "      border-left-color: var(--fill-color);\n",
              "      border-top-color: var(--fill-color);\n",
              "    }\n",
              "    30% {\n",
              "      border-color: transparent;\n",
              "      border-left-color: var(--fill-color);\n",
              "      border-top-color: var(--fill-color);\n",
              "      border-right-color: var(--fill-color);\n",
              "    }\n",
              "    40% {\n",
              "      border-color: transparent;\n",
              "      border-right-color: var(--fill-color);\n",
              "      border-top-color: var(--fill-color);\n",
              "    }\n",
              "    60% {\n",
              "      border-color: transparent;\n",
              "      border-right-color: var(--fill-color);\n",
              "    }\n",
              "    80% {\n",
              "      border-color: transparent;\n",
              "      border-right-color: var(--fill-color);\n",
              "      border-bottom-color: var(--fill-color);\n",
              "    }\n",
              "    90% {\n",
              "      border-color: transparent;\n",
              "      border-bottom-color: var(--fill-color);\n",
              "    }\n",
              "  }\n",
              "</style>\n",
              "\n",
              "  <script>\n",
              "    async function quickchart(key) {\n",
              "      const quickchartButtonEl =\n",
              "        document.querySelector('#' + key + ' button');\n",
              "      quickchartButtonEl.disabled = true;  // To prevent multiple clicks.\n",
              "      quickchartButtonEl.classList.add('colab-df-spinner');\n",
              "      try {\n",
              "        const charts = await google.colab.kernel.invokeFunction(\n",
              "            'suggestCharts', [key], {});\n",
              "      } catch (error) {\n",
              "        console.error('Error during call to suggestCharts:', error);\n",
              "      }\n",
              "      quickchartButtonEl.classList.remove('colab-df-spinner');\n",
              "      quickchartButtonEl.classList.add('colab-df-quickchart-complete');\n",
              "    }\n",
              "    (() => {\n",
              "      let quickchartButtonEl =\n",
              "        document.querySelector('#df-a9d9a1f6-3a77-442f-b6d9-b78cb100a367 button');\n",
              "      quickchartButtonEl.style.display =\n",
              "        google.colab.kernel.accessAllowed ? 'block' : 'none';\n",
              "    })();\n",
              "  </script>\n",
              "</div>\n",
              "\n",
              "  <div id=\"id_879b5431-143e-4381-a7c7-8135a052c296\">\n",
              "    <style>\n",
              "      .colab-df-generate {\n",
              "        background-color: #E8F0FE;\n",
              "        border: none;\n",
              "        border-radius: 50%;\n",
              "        cursor: pointer;\n",
              "        display: none;\n",
              "        fill: #1967D2;\n",
              "        height: 32px;\n",
              "        padding: 0 0 0 0;\n",
              "        width: 32px;\n",
              "      }\n",
              "\n",
              "      .colab-df-generate:hover {\n",
              "        background-color: #E2EBFA;\n",
              "        box-shadow: 0px 1px 2px rgba(60, 64, 67, 0.3), 0px 1px 3px 1px rgba(60, 64, 67, 0.15);\n",
              "        fill: #174EA6;\n",
              "      }\n",
              "\n",
              "      [theme=dark] .colab-df-generate {\n",
              "        background-color: #3B4455;\n",
              "        fill: #D2E3FC;\n",
              "      }\n",
              "\n",
              "      [theme=dark] .colab-df-generate:hover {\n",
              "        background-color: #434B5C;\n",
              "        box-shadow: 0px 1px 3px 1px rgba(0, 0, 0, 0.15);\n",
              "        filter: drop-shadow(0px 1px 2px rgba(0, 0, 0, 0.3));\n",
              "        fill: #FFFFFF;\n",
              "      }\n",
              "    </style>\n",
              "    <button class=\"colab-df-generate\" onclick=\"generateWithVariable('ytrain')\"\n",
              "            title=\"Generate code using this dataframe.\"\n",
              "            style=\"display:none;\">\n",
              "\n",
              "  <svg xmlns=\"http://www.w3.org/2000/svg\" height=\"24px\"viewBox=\"0 0 24 24\"\n",
              "       width=\"24px\">\n",
              "    <path d=\"M7,19H8.4L18.45,9,17,7.55,7,17.6ZM5,21V16.75L18.45,3.32a2,2,0,0,1,2.83,0l1.4,1.43a1.91,1.91,0,0,1,.58,1.4,1.91,1.91,0,0,1-.58,1.4L9.25,21ZM18.45,9,17,7.55Zm-12,3A5.31,5.31,0,0,0,4.9,8.1,5.31,5.31,0,0,0,1,6.5,5.31,5.31,0,0,0,4.9,4.9,5.31,5.31,0,0,0,6.5,1,5.31,5.31,0,0,0,8.1,4.9,5.31,5.31,0,0,0,12,6.5,5.46,5.46,0,0,0,6.5,12Z\"/>\n",
              "  </svg>\n",
              "    </button>\n",
              "    <script>\n",
              "      (() => {\n",
              "      const buttonEl =\n",
              "        document.querySelector('#id_879b5431-143e-4381-a7c7-8135a052c296 button.colab-df-generate');\n",
              "      buttonEl.style.display =\n",
              "        google.colab.kernel.accessAllowed ? 'block' : 'none';\n",
              "\n",
              "      buttonEl.onclick = () => {\n",
              "        google.colab.notebook.generateWithVariable('ytrain');\n",
              "      }\n",
              "      })();\n",
              "    </script>\n",
              "  </div>\n",
              "\n",
              "    </div>\n",
              "  </div>\n"
            ],
            "application/vnd.google.colaboratory.intrinsic+json": {
              "type": "dataframe",
              "variable_name": "ytrain",
              "summary": "{\n  \"name\": \"ytrain\",\n  \"rows\": 800,\n  \"fields\": [\n    {\n      \"column\": \"Liked\",\n      \"properties\": {\n        \"dtype\": \"number\",\n        \"std\": 0,\n        \"min\": 0,\n        \"max\": 1,\n        \"num_unique_values\": 2,\n        \"samples\": [\n          1,\n          0\n        ],\n        \"semantic_type\": \"\",\n        \"description\": \"\"\n      }\n    }\n  ]\n}"
            }
          },
          "metadata": {},
          "execution_count": 22
        }
      ]
    },
    {
      "cell_type": "code",
      "source": [
        "xtest"
      ],
      "metadata": {
        "colab": {
          "base_uri": "https://localhost:8080/"
        },
        "id": "Q8Gni8yQIxkf",
        "outputId": "499b9d53-9cf2-444d-a904-e254f712af9e"
      },
      "execution_count": 23,
      "outputs": [
        {
          "output_type": "execute_result",
          "data": {
            "text/plain": [
              "array([[ 7.69189233e-02,  1.34941597e-01, -7.03830866e-02, ...,\n",
              "         7.19936728e-03,  4.12199236e-03, -7.65036444e-03],\n",
              "       [ 2.54266004e-01, -7.50053930e-02, -3.37347062e-02, ...,\n",
              "        -1.45110827e-02,  1.98879204e-02,  2.70304576e-04],\n",
              "       [ 2.65741145e-01,  1.06919681e-02,  9.62323787e-02, ...,\n",
              "         2.00514386e-02, -1.24255705e-02,  2.68816561e-02],\n",
              "       ...,\n",
              "       [ 1.49168849e-01,  1.66499904e-01,  2.20766307e-01, ...,\n",
              "        -7.83327669e-03, -4.03907532e-04, -3.66999428e-03],\n",
              "       [ 1.46406258e-01,  2.12869453e-01, -2.16913296e-01, ...,\n",
              "         1.37936496e-02,  1.36013090e-02,  3.28005596e-03],\n",
              "       [ 3.20891746e-01, -2.48193598e-02,  1.88372552e-02, ...,\n",
              "        -3.44382822e-02, -3.37439861e-03, -2.43182504e-02]])"
            ]
          },
          "metadata": {},
          "execution_count": 23
        }
      ]
    },
    {
      "cell_type": "code",
      "source": [
        "ytest"
      ],
      "metadata": {
        "colab": {
          "base_uri": "https://localhost:8080/",
          "height": 424
        },
        "id": "JSmm4IouIz80",
        "outputId": "a63265a3-00f7-4e4a-db81-f26b9d25cfad"
      },
      "execution_count": 24,
      "outputs": [
        {
          "output_type": "execute_result",
          "data": {
            "text/plain": [
              "     Liked\n",
              "521      1\n",
              "737      1\n",
              "740      1\n",
              "660      1\n",
              "411      1\n",
              "..     ...\n",
              "408      1\n",
              "332      1\n",
              "208      0\n",
              "613      0\n",
              "78       1\n",
              "\n",
              "[200 rows x 1 columns]"
            ],
            "text/html": [
              "\n",
              "  <div id=\"df-80899c74-8e44-49d4-b725-033e131042f1\" class=\"colab-df-container\">\n",
              "    <div>\n",
              "<style scoped>\n",
              "    .dataframe tbody tr th:only-of-type {\n",
              "        vertical-align: middle;\n",
              "    }\n",
              "\n",
              "    .dataframe tbody tr th {\n",
              "        vertical-align: top;\n",
              "    }\n",
              "\n",
              "    .dataframe thead th {\n",
              "        text-align: right;\n",
              "    }\n",
              "</style>\n",
              "<table border=\"1\" class=\"dataframe\">\n",
              "  <thead>\n",
              "    <tr style=\"text-align: right;\">\n",
              "      <th></th>\n",
              "      <th>Liked</th>\n",
              "    </tr>\n",
              "  </thead>\n",
              "  <tbody>\n",
              "    <tr>\n",
              "      <th>521</th>\n",
              "      <td>1</td>\n",
              "    </tr>\n",
              "    <tr>\n",
              "      <th>737</th>\n",
              "      <td>1</td>\n",
              "    </tr>\n",
              "    <tr>\n",
              "      <th>740</th>\n",
              "      <td>1</td>\n",
              "    </tr>\n",
              "    <tr>\n",
              "      <th>660</th>\n",
              "      <td>1</td>\n",
              "    </tr>\n",
              "    <tr>\n",
              "      <th>411</th>\n",
              "      <td>1</td>\n",
              "    </tr>\n",
              "    <tr>\n",
              "      <th>...</th>\n",
              "      <td>...</td>\n",
              "    </tr>\n",
              "    <tr>\n",
              "      <th>408</th>\n",
              "      <td>1</td>\n",
              "    </tr>\n",
              "    <tr>\n",
              "      <th>332</th>\n",
              "      <td>1</td>\n",
              "    </tr>\n",
              "    <tr>\n",
              "      <th>208</th>\n",
              "      <td>0</td>\n",
              "    </tr>\n",
              "    <tr>\n",
              "      <th>613</th>\n",
              "      <td>0</td>\n",
              "    </tr>\n",
              "    <tr>\n",
              "      <th>78</th>\n",
              "      <td>1</td>\n",
              "    </tr>\n",
              "  </tbody>\n",
              "</table>\n",
              "<p>200 rows × 1 columns</p>\n",
              "</div>\n",
              "    <div class=\"colab-df-buttons\">\n",
              "\n",
              "  <div class=\"colab-df-container\">\n",
              "    <button class=\"colab-df-convert\" onclick=\"convertToInteractive('df-80899c74-8e44-49d4-b725-033e131042f1')\"\n",
              "            title=\"Convert this dataframe to an interactive table.\"\n",
              "            style=\"display:none;\">\n",
              "\n",
              "  <svg xmlns=\"http://www.w3.org/2000/svg\" height=\"24px\" viewBox=\"0 -960 960 960\">\n",
              "    <path d=\"M120-120v-720h720v720H120Zm60-500h600v-160H180v160Zm220 220h160v-160H400v160Zm0 220h160v-160H400v160ZM180-400h160v-160H180v160Zm440 0h160v-160H620v160ZM180-180h160v-160H180v160Zm440 0h160v-160H620v160Z\"/>\n",
              "  </svg>\n",
              "    </button>\n",
              "\n",
              "  <style>\n",
              "    .colab-df-container {\n",
              "      display:flex;\n",
              "      gap: 12px;\n",
              "    }\n",
              "\n",
              "    .colab-df-convert {\n",
              "      background-color: #E8F0FE;\n",
              "      border: none;\n",
              "      border-radius: 50%;\n",
              "      cursor: pointer;\n",
              "      display: none;\n",
              "      fill: #1967D2;\n",
              "      height: 32px;\n",
              "      padding: 0 0 0 0;\n",
              "      width: 32px;\n",
              "    }\n",
              "\n",
              "    .colab-df-convert:hover {\n",
              "      background-color: #E2EBFA;\n",
              "      box-shadow: 0px 1px 2px rgba(60, 64, 67, 0.3), 0px 1px 3px 1px rgba(60, 64, 67, 0.15);\n",
              "      fill: #174EA6;\n",
              "    }\n",
              "\n",
              "    .colab-df-buttons div {\n",
              "      margin-bottom: 4px;\n",
              "    }\n",
              "\n",
              "    [theme=dark] .colab-df-convert {\n",
              "      background-color: #3B4455;\n",
              "      fill: #D2E3FC;\n",
              "    }\n",
              "\n",
              "    [theme=dark] .colab-df-convert:hover {\n",
              "      background-color: #434B5C;\n",
              "      box-shadow: 0px 1px 3px 1px rgba(0, 0, 0, 0.15);\n",
              "      filter: drop-shadow(0px 1px 2px rgba(0, 0, 0, 0.3));\n",
              "      fill: #FFFFFF;\n",
              "    }\n",
              "  </style>\n",
              "\n",
              "    <script>\n",
              "      const buttonEl =\n",
              "        document.querySelector('#df-80899c74-8e44-49d4-b725-033e131042f1 button.colab-df-convert');\n",
              "      buttonEl.style.display =\n",
              "        google.colab.kernel.accessAllowed ? 'block' : 'none';\n",
              "\n",
              "      async function convertToInteractive(key) {\n",
              "        const element = document.querySelector('#df-80899c74-8e44-49d4-b725-033e131042f1');\n",
              "        const dataTable =\n",
              "          await google.colab.kernel.invokeFunction('convertToInteractive',\n",
              "                                                    [key], {});\n",
              "        if (!dataTable) return;\n",
              "\n",
              "        const docLinkHtml = 'Like what you see? Visit the ' +\n",
              "          '<a target=\"_blank\" href=https://colab.research.google.com/notebooks/data_table.ipynb>data table notebook</a>'\n",
              "          + ' to learn more about interactive tables.';\n",
              "        element.innerHTML = '';\n",
              "        dataTable['output_type'] = 'display_data';\n",
              "        await google.colab.output.renderOutput(dataTable, element);\n",
              "        const docLink = document.createElement('div');\n",
              "        docLink.innerHTML = docLinkHtml;\n",
              "        element.appendChild(docLink);\n",
              "      }\n",
              "    </script>\n",
              "  </div>\n",
              "\n",
              "\n",
              "<div id=\"df-f16ba390-aaaf-4754-95f2-c1f125522852\">\n",
              "  <button class=\"colab-df-quickchart\" onclick=\"quickchart('df-f16ba390-aaaf-4754-95f2-c1f125522852')\"\n",
              "            title=\"Suggest charts\"\n",
              "            style=\"display:none;\">\n",
              "\n",
              "<svg xmlns=\"http://www.w3.org/2000/svg\" height=\"24px\"viewBox=\"0 0 24 24\"\n",
              "     width=\"24px\">\n",
              "    <g>\n",
              "        <path d=\"M19 3H5c-1.1 0-2 .9-2 2v14c0 1.1.9 2 2 2h14c1.1 0 2-.9 2-2V5c0-1.1-.9-2-2-2zM9 17H7v-7h2v7zm4 0h-2V7h2v10zm4 0h-2v-4h2v4z\"/>\n",
              "    </g>\n",
              "</svg>\n",
              "  </button>\n",
              "\n",
              "<style>\n",
              "  .colab-df-quickchart {\n",
              "      --bg-color: #E8F0FE;\n",
              "      --fill-color: #1967D2;\n",
              "      --hover-bg-color: #E2EBFA;\n",
              "      --hover-fill-color: #174EA6;\n",
              "      --disabled-fill-color: #AAA;\n",
              "      --disabled-bg-color: #DDD;\n",
              "  }\n",
              "\n",
              "  [theme=dark] .colab-df-quickchart {\n",
              "      --bg-color: #3B4455;\n",
              "      --fill-color: #D2E3FC;\n",
              "      --hover-bg-color: #434B5C;\n",
              "      --hover-fill-color: #FFFFFF;\n",
              "      --disabled-bg-color: #3B4455;\n",
              "      --disabled-fill-color: #666;\n",
              "  }\n",
              "\n",
              "  .colab-df-quickchart {\n",
              "    background-color: var(--bg-color);\n",
              "    border: none;\n",
              "    border-radius: 50%;\n",
              "    cursor: pointer;\n",
              "    display: none;\n",
              "    fill: var(--fill-color);\n",
              "    height: 32px;\n",
              "    padding: 0;\n",
              "    width: 32px;\n",
              "  }\n",
              "\n",
              "  .colab-df-quickchart:hover {\n",
              "    background-color: var(--hover-bg-color);\n",
              "    box-shadow: 0 1px 2px rgba(60, 64, 67, 0.3), 0 1px 3px 1px rgba(60, 64, 67, 0.15);\n",
              "    fill: var(--button-hover-fill-color);\n",
              "  }\n",
              "\n",
              "  .colab-df-quickchart-complete:disabled,\n",
              "  .colab-df-quickchart-complete:disabled:hover {\n",
              "    background-color: var(--disabled-bg-color);\n",
              "    fill: var(--disabled-fill-color);\n",
              "    box-shadow: none;\n",
              "  }\n",
              "\n",
              "  .colab-df-spinner {\n",
              "    border: 2px solid var(--fill-color);\n",
              "    border-color: transparent;\n",
              "    border-bottom-color: var(--fill-color);\n",
              "    animation:\n",
              "      spin 1s steps(1) infinite;\n",
              "  }\n",
              "\n",
              "  @keyframes spin {\n",
              "    0% {\n",
              "      border-color: transparent;\n",
              "      border-bottom-color: var(--fill-color);\n",
              "      border-left-color: var(--fill-color);\n",
              "    }\n",
              "    20% {\n",
              "      border-color: transparent;\n",
              "      border-left-color: var(--fill-color);\n",
              "      border-top-color: var(--fill-color);\n",
              "    }\n",
              "    30% {\n",
              "      border-color: transparent;\n",
              "      border-left-color: var(--fill-color);\n",
              "      border-top-color: var(--fill-color);\n",
              "      border-right-color: var(--fill-color);\n",
              "    }\n",
              "    40% {\n",
              "      border-color: transparent;\n",
              "      border-right-color: var(--fill-color);\n",
              "      border-top-color: var(--fill-color);\n",
              "    }\n",
              "    60% {\n",
              "      border-color: transparent;\n",
              "      border-right-color: var(--fill-color);\n",
              "    }\n",
              "    80% {\n",
              "      border-color: transparent;\n",
              "      border-right-color: var(--fill-color);\n",
              "      border-bottom-color: var(--fill-color);\n",
              "    }\n",
              "    90% {\n",
              "      border-color: transparent;\n",
              "      border-bottom-color: var(--fill-color);\n",
              "    }\n",
              "  }\n",
              "</style>\n",
              "\n",
              "  <script>\n",
              "    async function quickchart(key) {\n",
              "      const quickchartButtonEl =\n",
              "        document.querySelector('#' + key + ' button');\n",
              "      quickchartButtonEl.disabled = true;  // To prevent multiple clicks.\n",
              "      quickchartButtonEl.classList.add('colab-df-spinner');\n",
              "      try {\n",
              "        const charts = await google.colab.kernel.invokeFunction(\n",
              "            'suggestCharts', [key], {});\n",
              "      } catch (error) {\n",
              "        console.error('Error during call to suggestCharts:', error);\n",
              "      }\n",
              "      quickchartButtonEl.classList.remove('colab-df-spinner');\n",
              "      quickchartButtonEl.classList.add('colab-df-quickchart-complete');\n",
              "    }\n",
              "    (() => {\n",
              "      let quickchartButtonEl =\n",
              "        document.querySelector('#df-f16ba390-aaaf-4754-95f2-c1f125522852 button');\n",
              "      quickchartButtonEl.style.display =\n",
              "        google.colab.kernel.accessAllowed ? 'block' : 'none';\n",
              "    })();\n",
              "  </script>\n",
              "</div>\n",
              "\n",
              "  <div id=\"id_ac3629f3-54e5-4063-a6a7-d499282a24c2\">\n",
              "    <style>\n",
              "      .colab-df-generate {\n",
              "        background-color: #E8F0FE;\n",
              "        border: none;\n",
              "        border-radius: 50%;\n",
              "        cursor: pointer;\n",
              "        display: none;\n",
              "        fill: #1967D2;\n",
              "        height: 32px;\n",
              "        padding: 0 0 0 0;\n",
              "        width: 32px;\n",
              "      }\n",
              "\n",
              "      .colab-df-generate:hover {\n",
              "        background-color: #E2EBFA;\n",
              "        box-shadow: 0px 1px 2px rgba(60, 64, 67, 0.3), 0px 1px 3px 1px rgba(60, 64, 67, 0.15);\n",
              "        fill: #174EA6;\n",
              "      }\n",
              "\n",
              "      [theme=dark] .colab-df-generate {\n",
              "        background-color: #3B4455;\n",
              "        fill: #D2E3FC;\n",
              "      }\n",
              "\n",
              "      [theme=dark] .colab-df-generate:hover {\n",
              "        background-color: #434B5C;\n",
              "        box-shadow: 0px 1px 3px 1px rgba(0, 0, 0, 0.15);\n",
              "        filter: drop-shadow(0px 1px 2px rgba(0, 0, 0, 0.3));\n",
              "        fill: #FFFFFF;\n",
              "      }\n",
              "    </style>\n",
              "    <button class=\"colab-df-generate\" onclick=\"generateWithVariable('ytest')\"\n",
              "            title=\"Generate code using this dataframe.\"\n",
              "            style=\"display:none;\">\n",
              "\n",
              "  <svg xmlns=\"http://www.w3.org/2000/svg\" height=\"24px\"viewBox=\"0 0 24 24\"\n",
              "       width=\"24px\">\n",
              "    <path d=\"M7,19H8.4L18.45,9,17,7.55,7,17.6ZM5,21V16.75L18.45,3.32a2,2,0,0,1,2.83,0l1.4,1.43a1.91,1.91,0,0,1,.58,1.4,1.91,1.91,0,0,1-.58,1.4L9.25,21ZM18.45,9,17,7.55Zm-12,3A5.31,5.31,0,0,0,4.9,8.1,5.31,5.31,0,0,0,1,6.5,5.31,5.31,0,0,0,4.9,4.9,5.31,5.31,0,0,0,6.5,1,5.31,5.31,0,0,0,8.1,4.9,5.31,5.31,0,0,0,12,6.5,5.46,5.46,0,0,0,6.5,12Z\"/>\n",
              "  </svg>\n",
              "    </button>\n",
              "    <script>\n",
              "      (() => {\n",
              "      const buttonEl =\n",
              "        document.querySelector('#id_ac3629f3-54e5-4063-a6a7-d499282a24c2 button.colab-df-generate');\n",
              "      buttonEl.style.display =\n",
              "        google.colab.kernel.accessAllowed ? 'block' : 'none';\n",
              "\n",
              "      buttonEl.onclick = () => {\n",
              "        google.colab.notebook.generateWithVariable('ytest');\n",
              "      }\n",
              "      })();\n",
              "    </script>\n",
              "  </div>\n",
              "\n",
              "    </div>\n",
              "  </div>\n"
            ],
            "application/vnd.google.colaboratory.intrinsic+json": {
              "type": "dataframe",
              "variable_name": "ytest",
              "summary": "{\n  \"name\": \"ytest\",\n  \"rows\": 200,\n  \"fields\": [\n    {\n      \"column\": \"Liked\",\n      \"properties\": {\n        \"dtype\": \"number\",\n        \"std\": 0,\n        \"min\": 0,\n        \"max\": 1,\n        \"num_unique_values\": 2,\n        \"samples\": [\n          0,\n          1\n        ],\n        \"semantic_type\": \"\",\n        \"description\": \"\"\n      }\n    }\n  ]\n}"
            }
          },
          "metadata": {},
          "execution_count": 24
        }
      ]
    },
    {
      "cell_type": "code",
      "source": [
        "xtrain.shape"
      ],
      "metadata": {
        "colab": {
          "base_uri": "https://localhost:8080/"
        },
        "id": "ERQsnWl2I1R1",
        "outputId": "58f1b520-ea47-4f10-ad10-addd6dd3a5d0"
      },
      "execution_count": 25,
      "outputs": [
        {
          "output_type": "execute_result",
          "data": {
            "text/plain": [
              "(800, 300)"
            ]
          },
          "metadata": {},
          "execution_count": 25
        }
      ]
    },
    {
      "cell_type": "code",
      "source": [
        "xtest.shape"
      ],
      "metadata": {
        "colab": {
          "base_uri": "https://localhost:8080/"
        },
        "id": "J0sTglq3I4e8",
        "outputId": "e5c659e8-fa99-4b14-9d1e-3882814a995f"
      },
      "execution_count": 26,
      "outputs": [
        {
          "output_type": "execute_result",
          "data": {
            "text/plain": [
              "(200, 300)"
            ]
          },
          "metadata": {},
          "execution_count": 26
        }
      ]
    },
    {
      "cell_type": "code",
      "source": [
        "xtrain.shape[1]"
      ],
      "metadata": {
        "colab": {
          "base_uri": "https://localhost:8080/"
        },
        "id": "OqjOU_vVI6cb",
        "outputId": "1d69db88-bb6e-4946-a2a2-44cc1a49ec77"
      },
      "execution_count": 27,
      "outputs": [
        {
          "output_type": "execute_result",
          "data": {
            "text/plain": [
              "300"
            ]
          },
          "metadata": {},
          "execution_count": 27
        }
      ]
    },
    {
      "cell_type": "markdown",
      "source": [
        "### build the nueral network"
      ],
      "metadata": {
        "id": "2sZTXuVMI-H7"
      }
    },
    {
      "cell_type": "code",
      "source": [
        "from keras.models import Sequential\n",
        "from keras.layers import Input, Dense, Dropout\n",
        "from keras import regularizers\n",
        "from keras.callbacks import EarlyStopping"
      ],
      "metadata": {
        "id": "kenQj2swI89V"
      },
      "execution_count": 28,
      "outputs": []
    },
    {
      "cell_type": "code",
      "source": [
        "model = Sequential(\n",
        "    [\n",
        "        Input(shape=(xtrain.shape[1],)),\n",
        "        Dense(128, activation=\"relu\", kernel_regularizer=regularizers.l2(0.01)),\n",
        "        Dropout(0.5),\n",
        "        Dense(64, activation=\"relu\", kernel_regularizer=regularizers.l2(0.01)),\n",
        "        Dropout(0.5),\n",
        "        Dense(1, activation=\"sigmoid\")\n",
        "    ]\n",
        ")"
      ],
      "metadata": {
        "id": "Ulc5HgpnJHH5"
      },
      "execution_count": 29,
      "outputs": []
    },
    {
      "cell_type": "code",
      "source": [
        "model.summary()"
      ],
      "metadata": {
        "colab": {
          "base_uri": "https://localhost:8080/",
          "height": 306
        },
        "id": "kq4QVQLmJL9K",
        "outputId": "43458a29-af92-4e4f-fc45-b25d1b631bbd"
      },
      "execution_count": 30,
      "outputs": [
        {
          "output_type": "display_data",
          "data": {
            "text/plain": [
              "\u001b[1mModel: \"sequential\"\u001b[0m\n"
            ],
            "text/html": [
              "<pre style=\"white-space:pre;overflow-x:auto;line-height:normal;font-family:Menlo,'DejaVu Sans Mono',consolas,'Courier New',monospace\"><span style=\"font-weight: bold\">Model: \"sequential\"</span>\n",
              "</pre>\n"
            ]
          },
          "metadata": {}
        },
        {
          "output_type": "display_data",
          "data": {
            "text/plain": [
              "┏━━━━━━━━━━━━━━━━━━━━━━━━━━━━━━━━━━━━━━┳━━━━━━━━━━━━━━━━━━━━━━━━━━━━━┳━━━━━━━━━━━━━━━━━┓\n",
              "┃\u001b[1m \u001b[0m\u001b[1mLayer (type)                        \u001b[0m\u001b[1m \u001b[0m┃\u001b[1m \u001b[0m\u001b[1mOutput Shape               \u001b[0m\u001b[1m \u001b[0m┃\u001b[1m \u001b[0m\u001b[1m        Param #\u001b[0m\u001b[1m \u001b[0m┃\n",
              "┡━━━━━━━━━━━━━━━━━━━━━━━━━━━━━━━━━━━━━━╇━━━━━━━━━━━━━━━━━━━━━━━━━━━━━╇━━━━━━━━━━━━━━━━━┩\n",
              "│ dense (\u001b[38;5;33mDense\u001b[0m)                        │ (\u001b[38;5;45mNone\u001b[0m, \u001b[38;5;34m128\u001b[0m)                 │          \u001b[38;5;34m38,528\u001b[0m │\n",
              "├──────────────────────────────────────┼─────────────────────────────┼─────────────────┤\n",
              "│ dropout (\u001b[38;5;33mDropout\u001b[0m)                    │ (\u001b[38;5;45mNone\u001b[0m, \u001b[38;5;34m128\u001b[0m)                 │               \u001b[38;5;34m0\u001b[0m │\n",
              "├──────────────────────────────────────┼─────────────────────────────┼─────────────────┤\n",
              "│ dense_1 (\u001b[38;5;33mDense\u001b[0m)                      │ (\u001b[38;5;45mNone\u001b[0m, \u001b[38;5;34m64\u001b[0m)                  │           \u001b[38;5;34m8,256\u001b[0m │\n",
              "├──────────────────────────────────────┼─────────────────────────────┼─────────────────┤\n",
              "│ dropout_1 (\u001b[38;5;33mDropout\u001b[0m)                  │ (\u001b[38;5;45mNone\u001b[0m, \u001b[38;5;34m64\u001b[0m)                  │               \u001b[38;5;34m0\u001b[0m │\n",
              "├──────────────────────────────────────┼─────────────────────────────┼─────────────────┤\n",
              "│ dense_2 (\u001b[38;5;33mDense\u001b[0m)                      │ (\u001b[38;5;45mNone\u001b[0m, \u001b[38;5;34m1\u001b[0m)                   │              \u001b[38;5;34m65\u001b[0m │\n",
              "└──────────────────────────────────────┴─────────────────────────────┴─────────────────┘\n"
            ],
            "text/html": [
              "<pre style=\"white-space:pre;overflow-x:auto;line-height:normal;font-family:Menlo,'DejaVu Sans Mono',consolas,'Courier New',monospace\">┏━━━━━━━━━━━━━━━━━━━━━━━━━━━━━━━━━━━━━━┳━━━━━━━━━━━━━━━━━━━━━━━━━━━━━┳━━━━━━━━━━━━━━━━━┓\n",
              "┃<span style=\"font-weight: bold\"> Layer (type)                         </span>┃<span style=\"font-weight: bold\"> Output Shape                </span>┃<span style=\"font-weight: bold\">         Param # </span>┃\n",
              "┡━━━━━━━━━━━━━━━━━━━━━━━━━━━━━━━━━━━━━━╇━━━━━━━━━━━━━━━━━━━━━━━━━━━━━╇━━━━━━━━━━━━━━━━━┩\n",
              "│ dense (<span style=\"color: #0087ff; text-decoration-color: #0087ff\">Dense</span>)                        │ (<span style=\"color: #00d7ff; text-decoration-color: #00d7ff\">None</span>, <span style=\"color: #00af00; text-decoration-color: #00af00\">128</span>)                 │          <span style=\"color: #00af00; text-decoration-color: #00af00\">38,528</span> │\n",
              "├──────────────────────────────────────┼─────────────────────────────┼─────────────────┤\n",
              "│ dropout (<span style=\"color: #0087ff; text-decoration-color: #0087ff\">Dropout</span>)                    │ (<span style=\"color: #00d7ff; text-decoration-color: #00d7ff\">None</span>, <span style=\"color: #00af00; text-decoration-color: #00af00\">128</span>)                 │               <span style=\"color: #00af00; text-decoration-color: #00af00\">0</span> │\n",
              "├──────────────────────────────────────┼─────────────────────────────┼─────────────────┤\n",
              "│ dense_1 (<span style=\"color: #0087ff; text-decoration-color: #0087ff\">Dense</span>)                      │ (<span style=\"color: #00d7ff; text-decoration-color: #00d7ff\">None</span>, <span style=\"color: #00af00; text-decoration-color: #00af00\">64</span>)                  │           <span style=\"color: #00af00; text-decoration-color: #00af00\">8,256</span> │\n",
              "├──────────────────────────────────────┼─────────────────────────────┼─────────────────┤\n",
              "│ dropout_1 (<span style=\"color: #0087ff; text-decoration-color: #0087ff\">Dropout</span>)                  │ (<span style=\"color: #00d7ff; text-decoration-color: #00d7ff\">None</span>, <span style=\"color: #00af00; text-decoration-color: #00af00\">64</span>)                  │               <span style=\"color: #00af00; text-decoration-color: #00af00\">0</span> │\n",
              "├──────────────────────────────────────┼─────────────────────────────┼─────────────────┤\n",
              "│ dense_2 (<span style=\"color: #0087ff; text-decoration-color: #0087ff\">Dense</span>)                      │ (<span style=\"color: #00d7ff; text-decoration-color: #00d7ff\">None</span>, <span style=\"color: #00af00; text-decoration-color: #00af00\">1</span>)                   │              <span style=\"color: #00af00; text-decoration-color: #00af00\">65</span> │\n",
              "└──────────────────────────────────────┴─────────────────────────────┴─────────────────┘\n",
              "</pre>\n"
            ]
          },
          "metadata": {}
        },
        {
          "output_type": "display_data",
          "data": {
            "text/plain": [
              "\u001b[1m Total params: \u001b[0m\u001b[38;5;34m46,849\u001b[0m (183.00 KB)\n"
            ],
            "text/html": [
              "<pre style=\"white-space:pre;overflow-x:auto;line-height:normal;font-family:Menlo,'DejaVu Sans Mono',consolas,'Courier New',monospace\"><span style=\"font-weight: bold\"> Total params: </span><span style=\"color: #00af00; text-decoration-color: #00af00\">46,849</span> (183.00 KB)\n",
              "</pre>\n"
            ]
          },
          "metadata": {}
        },
        {
          "output_type": "display_data",
          "data": {
            "text/plain": [
              "\u001b[1m Trainable params: \u001b[0m\u001b[38;5;34m46,849\u001b[0m (183.00 KB)\n"
            ],
            "text/html": [
              "<pre style=\"white-space:pre;overflow-x:auto;line-height:normal;font-family:Menlo,'DejaVu Sans Mono',consolas,'Courier New',monospace\"><span style=\"font-weight: bold\"> Trainable params: </span><span style=\"color: #00af00; text-decoration-color: #00af00\">46,849</span> (183.00 KB)\n",
              "</pre>\n"
            ]
          },
          "metadata": {}
        },
        {
          "output_type": "display_data",
          "data": {
            "text/plain": [
              "\u001b[1m Non-trainable params: \u001b[0m\u001b[38;5;34m0\u001b[0m (0.00 B)\n"
            ],
            "text/html": [
              "<pre style=\"white-space:pre;overflow-x:auto;line-height:normal;font-family:Menlo,'DejaVu Sans Mono',consolas,'Courier New',monospace\"><span style=\"font-weight: bold\"> Non-trainable params: </span><span style=\"color: #00af00; text-decoration-color: #00af00\">0</span> (0.00 B)\n",
              "</pre>\n"
            ]
          },
          "metadata": {}
        }
      ]
    },
    {
      "cell_type": "code",
      "source": [
        "model.compile(loss=\"binary_crossentropy\", optimizer=\"adam\", metrics=[\"accuracy\"])"
      ],
      "metadata": {
        "id": "9-btDwuEJObu"
      },
      "execution_count": 31,
      "outputs": []
    },
    {
      "cell_type": "code",
      "source": [
        "es = EarlyStopping(patience=10, restore_best_weights=True)\n",
        ""
      ],
      "metadata": {
        "id": "dJSAaYT6JT3k"
      },
      "execution_count": 32,
      "outputs": []
    },
    {
      "cell_type": "code",
      "source": [
        "hist = model.fit(\n",
        "    xtrain, ytrain,\n",
        "    validation_data=(xtest, ytest),\n",
        "    epochs=200,\n",
        "    batch_size=32,\n",
        "    callbacks = [es]\n",
        ")\n",
        "\n"
      ],
      "metadata": {
        "colab": {
          "base_uri": "https://localhost:8080/"
        },
        "id": "THQ-yCZPJWwJ",
        "outputId": "01f1fe5c-9435-4589-be35-760ebef82f3f"
      },
      "execution_count": 33,
      "outputs": [
        {
          "output_type": "stream",
          "name": "stdout",
          "text": [
            "Epoch 1/200\n",
            "\u001b[1m25/25\u001b[0m \u001b[32m━━━━━━━━━━━━━━━━━━━━\u001b[0m\u001b[37m\u001b[0m \u001b[1m5s\u001b[0m 37ms/step - accuracy: 0.5375 - loss: 3.0218 - val_accuracy: 0.5650 - val_loss: 2.2010\n",
            "Epoch 2/200\n",
            "\u001b[1m25/25\u001b[0m \u001b[32m━━━━━━━━━━━━━━━━━━━━\u001b[0m\u001b[37m\u001b[0m \u001b[1m3s\u001b[0m 6ms/step - accuracy: 0.5393 - loss: 2.0025 - val_accuracy: 0.6400 - val_loss: 1.5075\n",
            "Epoch 3/200\n",
            "\u001b[1m25/25\u001b[0m \u001b[32m━━━━━━━━━━━━━━━━━━━━\u001b[0m\u001b[37m\u001b[0m \u001b[1m0s\u001b[0m 5ms/step - accuracy: 0.5535 - loss: 1.3957 - val_accuracy: 0.6250 - val_loss: 1.1217\n",
            "Epoch 4/200\n",
            "\u001b[1m25/25\u001b[0m \u001b[32m━━━━━━━━━━━━━━━━━━━━\u001b[0m\u001b[37m\u001b[0m \u001b[1m0s\u001b[0m 5ms/step - accuracy: 0.6084 - loss: 1.0588 - val_accuracy: 0.7300 - val_loss: 0.9142\n",
            "Epoch 5/200\n",
            "\u001b[1m25/25\u001b[0m \u001b[32m━━━━━━━━━━━━━━━━━━━━\u001b[0m\u001b[37m\u001b[0m \u001b[1m0s\u001b[0m 5ms/step - accuracy: 0.6929 - loss: 0.8791 - val_accuracy: 0.7150 - val_loss: 0.8055\n",
            "Epoch 6/200\n",
            "\u001b[1m25/25\u001b[0m \u001b[32m━━━━━━━━━━━━━━━━━━━━\u001b[0m\u001b[37m\u001b[0m \u001b[1m0s\u001b[0m 6ms/step - accuracy: 0.7860 - loss: 0.7793 - val_accuracy: 0.7350 - val_loss: 0.7479\n",
            "Epoch 7/200\n",
            "\u001b[1m25/25\u001b[0m \u001b[32m━━━━━━━━━━━━━━━━━━━━\u001b[0m\u001b[37m\u001b[0m \u001b[1m0s\u001b[0m 5ms/step - accuracy: 0.7893 - loss: 0.7257 - val_accuracy: 0.7900 - val_loss: 0.7148\n",
            "Epoch 8/200\n",
            "\u001b[1m25/25\u001b[0m \u001b[32m━━━━━━━━━━━━━━━━━━━━\u001b[0m\u001b[37m\u001b[0m \u001b[1m0s\u001b[0m 6ms/step - accuracy: 0.8273 - loss: 0.6881 - val_accuracy: 0.7850 - val_loss: 0.6909\n",
            "Epoch 9/200\n",
            "\u001b[1m25/25\u001b[0m \u001b[32m━━━━━━━━━━━━━━━━━━━━\u001b[0m\u001b[37m\u001b[0m \u001b[1m0s\u001b[0m 6ms/step - accuracy: 0.8201 - loss: 0.6547 - val_accuracy: 0.8000 - val_loss: 0.6722\n",
            "Epoch 10/200\n",
            "\u001b[1m25/25\u001b[0m \u001b[32m━━━━━━━━━━━━━━━━━━━━\u001b[0m\u001b[37m\u001b[0m \u001b[1m0s\u001b[0m 6ms/step - accuracy: 0.8751 - loss: 0.6083 - val_accuracy: 0.7600 - val_loss: 0.6698\n",
            "Epoch 11/200\n",
            "\u001b[1m25/25\u001b[0m \u001b[32m━━━━━━━━━━━━━━━━━━━━\u001b[0m\u001b[37m\u001b[0m \u001b[1m0s\u001b[0m 5ms/step - accuracy: 0.8780 - loss: 0.5696 - val_accuracy: 0.8000 - val_loss: 0.6439\n",
            "Epoch 12/200\n",
            "\u001b[1m25/25\u001b[0m \u001b[32m━━━━━━━━━━━━━━━━━━━━\u001b[0m\u001b[37m\u001b[0m \u001b[1m0s\u001b[0m 5ms/step - accuracy: 0.8647 - loss: 0.5734 - val_accuracy: 0.8000 - val_loss: 0.6374\n",
            "Epoch 13/200\n",
            "\u001b[1m25/25\u001b[0m \u001b[32m━━━━━━━━━━━━━━━━━━━━\u001b[0m\u001b[37m\u001b[0m \u001b[1m0s\u001b[0m 5ms/step - accuracy: 0.8934 - loss: 0.5374 - val_accuracy: 0.7950 - val_loss: 0.6312\n",
            "Epoch 14/200\n",
            "\u001b[1m25/25\u001b[0m \u001b[32m━━━━━━━━━━━━━━━━━━━━\u001b[0m\u001b[37m\u001b[0m \u001b[1m0s\u001b[0m 5ms/step - accuracy: 0.8882 - loss: 0.5397 - val_accuracy: 0.8000 - val_loss: 0.6299\n",
            "Epoch 15/200\n",
            "\u001b[1m25/25\u001b[0m \u001b[32m━━━━━━━━━━━━━━━━━━━━\u001b[0m\u001b[37m\u001b[0m \u001b[1m0s\u001b[0m 9ms/step - accuracy: 0.8853 - loss: 0.5334 - val_accuracy: 0.8100 - val_loss: 0.6244\n",
            "Epoch 16/200\n",
            "\u001b[1m25/25\u001b[0m \u001b[32m━━━━━━━━━━━━━━━━━━━━\u001b[0m\u001b[37m\u001b[0m \u001b[1m0s\u001b[0m 8ms/step - accuracy: 0.9114 - loss: 0.5004 - val_accuracy: 0.8050 - val_loss: 0.6171\n",
            "Epoch 17/200\n",
            "\u001b[1m25/25\u001b[0m \u001b[32m━━━━━━━━━━━━━━━━━━━━\u001b[0m\u001b[37m\u001b[0m \u001b[1m0s\u001b[0m 8ms/step - accuracy: 0.9003 - loss: 0.5115 - val_accuracy: 0.8100 - val_loss: 0.6201\n",
            "Epoch 18/200\n",
            "\u001b[1m25/25\u001b[0m \u001b[32m━━━━━━━━━━━━━━━━━━━━\u001b[0m\u001b[37m\u001b[0m \u001b[1m0s\u001b[0m 8ms/step - accuracy: 0.9248 - loss: 0.4730 - val_accuracy: 0.8150 - val_loss: 0.6198\n",
            "Epoch 19/200\n",
            "\u001b[1m25/25\u001b[0m \u001b[32m━━━━━━━━━━━━━━━━━━━━\u001b[0m\u001b[37m\u001b[0m \u001b[1m0s\u001b[0m 8ms/step - accuracy: 0.9166 - loss: 0.4947 - val_accuracy: 0.8100 - val_loss: 0.6295\n",
            "Epoch 20/200\n",
            "\u001b[1m25/25\u001b[0m \u001b[32m━━━━━━━━━━━━━━━━━━━━\u001b[0m\u001b[37m\u001b[0m \u001b[1m0s\u001b[0m 8ms/step - accuracy: 0.9197 - loss: 0.4927 - val_accuracy: 0.8100 - val_loss: 0.6202\n",
            "Epoch 21/200\n",
            "\u001b[1m25/25\u001b[0m \u001b[32m━━━━━━━━━━━━━━━━━━━━\u001b[0m\u001b[37m\u001b[0m \u001b[1m0s\u001b[0m 8ms/step - accuracy: 0.9138 - loss: 0.4746 - val_accuracy: 0.8150 - val_loss: 0.6108\n",
            "Epoch 22/200\n",
            "\u001b[1m25/25\u001b[0m \u001b[32m━━━━━━━━━━━━━━━━━━━━\u001b[0m\u001b[37m\u001b[0m \u001b[1m0s\u001b[0m 12ms/step - accuracy: 0.9423 - loss: 0.4547 - val_accuracy: 0.8300 - val_loss: 0.6223\n",
            "Epoch 23/200\n",
            "\u001b[1m25/25\u001b[0m \u001b[32m━━━━━━━━━━━━━━━━━━━━\u001b[0m\u001b[37m\u001b[0m \u001b[1m0s\u001b[0m 5ms/step - accuracy: 0.8884 - loss: 0.4707 - val_accuracy: 0.8300 - val_loss: 0.6318\n",
            "Epoch 24/200\n",
            "\u001b[1m25/25\u001b[0m \u001b[32m━━━━━━━━━━━━━━━━━━━━\u001b[0m\u001b[37m\u001b[0m \u001b[1m0s\u001b[0m 6ms/step - accuracy: 0.9171 - loss: 0.4544 - val_accuracy: 0.7950 - val_loss: 0.6170\n",
            "Epoch 25/200\n",
            "\u001b[1m25/25\u001b[0m \u001b[32m━━━━━━━━━━━━━━━━━━━━\u001b[0m\u001b[37m\u001b[0m \u001b[1m0s\u001b[0m 6ms/step - accuracy: 0.9535 - loss: 0.4348 - val_accuracy: 0.8100 - val_loss: 0.6120\n",
            "Epoch 26/200\n",
            "\u001b[1m25/25\u001b[0m \u001b[32m━━━━━━━━━━━━━━━━━━━━\u001b[0m\u001b[37m\u001b[0m \u001b[1m0s\u001b[0m 5ms/step - accuracy: 0.9431 - loss: 0.4411 - val_accuracy: 0.8000 - val_loss: 0.6231\n",
            "Epoch 27/200\n",
            "\u001b[1m25/25\u001b[0m \u001b[32m━━━━━━━━━━━━━━━━━━━━\u001b[0m\u001b[37m\u001b[0m \u001b[1m0s\u001b[0m 5ms/step - accuracy: 0.9438 - loss: 0.4306 - val_accuracy: 0.8000 - val_loss: 0.6312\n",
            "Epoch 28/200\n",
            "\u001b[1m25/25\u001b[0m \u001b[32m━━━━━━━━━━━━━━━━━━━━\u001b[0m\u001b[37m\u001b[0m \u001b[1m0s\u001b[0m 5ms/step - accuracy: 0.9323 - loss: 0.4352 - val_accuracy: 0.7900 - val_loss: 0.6362\n",
            "Epoch 29/200\n",
            "\u001b[1m25/25\u001b[0m \u001b[32m━━━━━━━━━━━━━━━━━━━━\u001b[0m\u001b[37m\u001b[0m \u001b[1m0s\u001b[0m 5ms/step - accuracy: 0.9287 - loss: 0.4269 - val_accuracy: 0.8050 - val_loss: 0.6124\n",
            "Epoch 30/200\n",
            "\u001b[1m25/25\u001b[0m \u001b[32m━━━━━━━━━━━━━━━━━━━━\u001b[0m\u001b[37m\u001b[0m \u001b[1m0s\u001b[0m 5ms/step - accuracy: 0.9348 - loss: 0.4371 - val_accuracy: 0.8200 - val_loss: 0.6080\n",
            "Epoch 31/200\n",
            "\u001b[1m25/25\u001b[0m \u001b[32m━━━━━━━━━━━━━━━━━━━━\u001b[0m\u001b[37m\u001b[0m \u001b[1m0s\u001b[0m 5ms/step - accuracy: 0.9176 - loss: 0.4345 - val_accuracy: 0.8100 - val_loss: 0.6003\n",
            "Epoch 32/200\n",
            "\u001b[1m25/25\u001b[0m \u001b[32m━━━━━━━━━━━━━━━━━━━━\u001b[0m\u001b[37m\u001b[0m \u001b[1m0s\u001b[0m 5ms/step - accuracy: 0.9209 - loss: 0.4345 - val_accuracy: 0.8100 - val_loss: 0.6087\n",
            "Epoch 33/200\n",
            "\u001b[1m25/25\u001b[0m \u001b[32m━━━━━━━━━━━━━━━━━━━━\u001b[0m\u001b[37m\u001b[0m \u001b[1m0s\u001b[0m 5ms/step - accuracy: 0.9294 - loss: 0.4268 - val_accuracy: 0.8100 - val_loss: 0.6110\n",
            "Epoch 34/200\n",
            "\u001b[1m25/25\u001b[0m \u001b[32m━━━━━━━━━━━━━━━━━━━━\u001b[0m\u001b[37m\u001b[0m \u001b[1m0s\u001b[0m 5ms/step - accuracy: 0.9498 - loss: 0.4056 - val_accuracy: 0.8250 - val_loss: 0.6102\n",
            "Epoch 35/200\n",
            "\u001b[1m25/25\u001b[0m \u001b[32m━━━━━━━━━━━━━━━━━━━━\u001b[0m\u001b[37m\u001b[0m \u001b[1m0s\u001b[0m 5ms/step - accuracy: 0.9234 - loss: 0.4347 - val_accuracy: 0.8250 - val_loss: 0.6221\n",
            "Epoch 36/200\n",
            "\u001b[1m25/25\u001b[0m \u001b[32m━━━━━━━━━━━━━━━━━━━━\u001b[0m\u001b[37m\u001b[0m \u001b[1m0s\u001b[0m 5ms/step - accuracy: 0.9399 - loss: 0.4092 - val_accuracy: 0.8350 - val_loss: 0.6268\n",
            "Epoch 37/200\n",
            "\u001b[1m25/25\u001b[0m \u001b[32m━━━━━━━━━━━━━━━━━━━━\u001b[0m\u001b[37m\u001b[0m \u001b[1m0s\u001b[0m 6ms/step - accuracy: 0.9326 - loss: 0.4119 - val_accuracy: 0.8100 - val_loss: 0.6144\n",
            "Epoch 38/200\n",
            "\u001b[1m25/25\u001b[0m \u001b[32m━━━━━━━━━━━━━━━━━━━━\u001b[0m\u001b[37m\u001b[0m \u001b[1m0s\u001b[0m 6ms/step - accuracy: 0.9321 - loss: 0.4186 - val_accuracy: 0.8250 - val_loss: 0.6212\n",
            "Epoch 39/200\n",
            "\u001b[1m25/25\u001b[0m \u001b[32m━━━━━━━━━━━━━━━━━━━━\u001b[0m\u001b[37m\u001b[0m \u001b[1m0s\u001b[0m 5ms/step - accuracy: 0.9304 - loss: 0.4238 - val_accuracy: 0.8150 - val_loss: 0.6147\n",
            "Epoch 40/200\n",
            "\u001b[1m25/25\u001b[0m \u001b[32m━━━━━━━━━━━━━━━━━━━━\u001b[0m\u001b[37m\u001b[0m \u001b[1m0s\u001b[0m 6ms/step - accuracy: 0.9404 - loss: 0.4040 - val_accuracy: 0.8200 - val_loss: 0.6102\n",
            "Epoch 41/200\n",
            "\u001b[1m25/25\u001b[0m \u001b[32m━━━━━━━━━━━━━━━━━━━━\u001b[0m\u001b[37m\u001b[0m \u001b[1m0s\u001b[0m 5ms/step - accuracy: 0.9499 - loss: 0.4107 - val_accuracy: 0.8150 - val_loss: 0.6095\n"
          ]
        }
      ]
    },
    {
      "cell_type": "markdown",
      "source": [
        "### Plot the learning curve"
      ],
      "metadata": {
        "id": "Ki2v5W9lJfXm"
      }
    },
    {
      "cell_type": "code",
      "source": [
        "import matplotlib.pyplot as plt"
      ],
      "metadata": {
        "id": "XC2s7dkWJZTT"
      },
      "execution_count": 34,
      "outputs": []
    },
    {
      "cell_type": "code",
      "source": [
        "plt.figure(figsize=(10, 5))\n",
        "plt.plot(hist.history[\"loss\"], label=\"Train Loss\")\n",
        "plt.plot(hist.history[\"val_loss\"], label=\"Test Loss\")\n",
        "plt.xlabel(\"Epochs\")\n",
        "plt.ylabel(\"Binary Crossentropy\")\n",
        "plt.title(\"Learning Curve\")\n",
        "plt.legend()\n",
        "plt.show()"
      ],
      "metadata": {
        "colab": {
          "base_uri": "https://localhost:8080/",
          "height": 487
        },
        "id": "5e8kuodZJmHu",
        "outputId": "43faaf13-3ac2-438b-b21d-c3f4b70daeb0"
      },
      "execution_count": 35,
      "outputs": [
        {
          "output_type": "display_data",
          "data": {
            "text/plain": [
              "<Figure size 1000x500 with 1 Axes>"
            ],
            "image/png": "[encoded data removed]"
          },
          "metadata": {}
        }
      ]
    },
    {
      "cell_type": "markdown",
      "source": [
        "### model Evaluation"
      ],
      "metadata": {
        "id": "WLGSHI5VJwRg"
      }
    },
    {
      "cell_type": "code",
      "source": [],
      "metadata": {
        "id": "ji_L2PBlJokp"
      },
      "execution_count": null,
      "outputs": []
    }
  ]
}